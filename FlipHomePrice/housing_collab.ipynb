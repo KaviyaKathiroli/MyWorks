{
  "cells": [
    {
      "cell_type": "markdown",
      "metadata": {
        "id": "view-in-github",
        "colab_type": "text"
      },
      "source": [
        "<a href=\"https://colab.research.google.com/github/KaviyaKathiroli/MyWorks/blob/main/FlipHomePrice/housing_collab.ipynb\" target=\"_parent\"><img src=\"https://colab.research.google.com/assets/colab-badge.svg\" alt=\"Open In Colab\"/></a>"
      ]
    },
    {
      "cell_type": "code",
      "execution_count": 1,
      "id": "73c593fc",
      "metadata": {
        "id": "73c593fc"
      },
      "outputs": [],
      "source": [
        "import pandas as pd\n",
        "import numpy as np\n",
        "import tkinter\n",
        "import matplotlib\n",
        "import matplotlib.pyplot as plt\n",
        "import seaborn as sns\n",
        "import plotly.express as px\n",
        "from sklearn.impute import SimpleImputer\n",
        "from sklearn.preprocessing import LabelEncoder\n",
        "from collections import Counter\n",
        "import pandas_profiling as ProfileReporting"
      ]
    },
    {
      "cell_type": "code",
      "source": [
        "pwd"
      ],
      "metadata": {
        "colab": {
          "base_uri": "https://localhost:8080/",
          "height": 35
        },
        "id": "-F42TkX6uIfu",
        "outputId": "fad79652-f799-47ea-e9d5-b060ec1de29f"
      },
      "id": "-F42TkX6uIfu",
      "execution_count": 2,
      "outputs": [
        {
          "output_type": "execute_result",
          "data": {
            "text/plain": [
              "'/content'"
            ],
            "application/vnd.google.colaboratory.intrinsic+json": {
              "type": "string"
            }
          },
          "metadata": {},
          "execution_count": 2
        }
      ]
    },
    {
      "cell_type": "code",
      "source": [
        "from google.colab import drive\n",
        "drive.mount('/content/drive')"
      ],
      "metadata": {
        "colab": {
          "base_uri": "https://localhost:8080/"
        },
        "id": "2tLWgXfsuWum",
        "outputId": "b2ca56be-1648-4c9a-c455-b146e440bed7"
      },
      "id": "2tLWgXfsuWum",
      "execution_count": 6,
      "outputs": [
        {
          "output_type": "stream",
          "name": "stdout",
          "text": [
            "Mounted at /content/drive\n"
          ]
        }
      ]
    },
    {
      "cell_type": "code",
      "source": [
        "import os\n",
        "os.chdir(\"drive/My Drive/CollabProject\")"
      ],
      "metadata": {
        "id": "T4GHz_D1vE5o"
      },
      "id": "T4GHz_D1vE5o",
      "execution_count": 7,
      "outputs": []
    },
    {
      "cell_type": "code",
      "source": [
        "pwd"
      ],
      "metadata": {
        "colab": {
          "base_uri": "https://localhost:8080/",
          "height": 35
        },
        "id": "STdHYn9nvXf6",
        "outputId": "013b12f2-ba69-47d7-cf9b-8f3257bc446a"
      },
      "id": "STdHYn9nvXf6",
      "execution_count": null,
      "outputs": [
        {
          "output_type": "execute_result",
          "data": {
            "text/plain": [
              "'/content/drive/MyDrive/CollabProject'"
            ],
            "application/vnd.google.colaboratory.intrinsic+json": {
              "type": "string"
            }
          },
          "metadata": {},
          "execution_count": 6
        }
      ]
    },
    {
      "cell_type": "markdown",
      "id": "0b95ab69",
      "metadata": {
        "id": "0b95ab69"
      },
      "source": [
        "Reading data from input file"
      ]
    },
    {
      "cell_type": "code",
      "execution_count": 11,
      "id": "1e419665",
      "metadata": {
        "id": "1e419665"
      },
      "outputs": [],
      "source": [
        "price=pd.read_csv('/content/drive/My Drive/CollabProject/train.csv')"
      ]
    },
    {
      "cell_type": "code",
      "execution_count": 12,
      "id": "663bdda0",
      "metadata": {
        "id": "663bdda0",
        "outputId": "7bd0dd96-99c4-44d8-b621-0c5921fe5f39",
        "colab": {
          "base_uri": "https://localhost:8080/",
          "height": 456
        }
      },
      "outputs": [
        {
          "output_type": "execute_result",
          "data": {
            "text/plain": [
              "     Id  MSSubClass MSZoning  LotFrontage  LotArea Street Alley LotShape  \\\n",
              "0   127         120       RL          NaN     4928   Pave   NaN      IR1   \n",
              "1   889          20       RL         95.0    15865   Pave   NaN      IR1   \n",
              "2   793          60       RL         92.0     9920   Pave   NaN      IR1   \n",
              "3   110          20       RL        105.0    11751   Pave   NaN      IR1   \n",
              "4   422          20       RL          NaN    16635   Pave   NaN      IR1   \n",
              "5  1197          60       RL         58.0    14054   Pave   NaN      IR1   \n",
              "6   561          20       RL          NaN    11341   Pave   NaN      IR1   \n",
              "7  1041          20       RL         88.0    13125   Pave   NaN      Reg   \n",
              "8   503          20       RL         70.0     9170   Pave   NaN      Reg   \n",
              "9   576          50       RL         80.0     8480   Pave   NaN      Reg   \n",
              "\n",
              "  LandContour Utilities  ... PoolArea PoolQC  Fence MiscFeature MiscVal  \\\n",
              "0         Lvl    AllPub  ...        0    NaN    NaN         NaN       0   \n",
              "1         Lvl    AllPub  ...        0    NaN    NaN         NaN       0   \n",
              "2         Lvl    AllPub  ...        0    NaN    NaN         NaN       0   \n",
              "3         Lvl    AllPub  ...        0    NaN  MnPrv         NaN       0   \n",
              "4         Lvl    AllPub  ...        0    NaN    NaN         NaN       0   \n",
              "5         Lvl    AllPub  ...        0    NaN    NaN         NaN       0   \n",
              "6         Lvl    AllPub  ...        0    NaN    NaN         NaN       0   \n",
              "7         Lvl    AllPub  ...        0    NaN  GdPrv         NaN       0   \n",
              "8         Lvl    AllPub  ...        0    NaN  GdPrv        Shed     400   \n",
              "9         Lvl    AllPub  ...        0    NaN    NaN         NaN       0   \n",
              "\n",
              "  MoSold YrSold  SaleType  SaleCondition  SalePrice  \n",
              "0      2   2007        WD         Normal     128000  \n",
              "1     10   2007        WD         Normal     268000  \n",
              "2      6   2007        WD         Normal     269790  \n",
              "3      1   2010       COD         Normal     190000  \n",
              "4      6   2009        WD         Normal     215000  \n",
              "5     11   2006       New        Partial     219210  \n",
              "6      5   2010        WD         Normal     121500  \n",
              "7      1   2006        WD         Normal     155000  \n",
              "8      4   2007        WD         Normal     140000  \n",
              "9     10   2008       COD        Abnorml     118500  \n",
              "\n",
              "[10 rows x 81 columns]"
            ],
            "text/html": [
              "\n",
              "  <div id=\"df-74ce7333-b82c-4220-87a0-6ceff951f4e7\">\n",
              "    <div class=\"colab-df-container\">\n",
              "      <div>\n",
              "<style scoped>\n",
              "    .dataframe tbody tr th:only-of-type {\n",
              "        vertical-align: middle;\n",
              "    }\n",
              "\n",
              "    .dataframe tbody tr th {\n",
              "        vertical-align: top;\n",
              "    }\n",
              "\n",
              "    .dataframe thead th {\n",
              "        text-align: right;\n",
              "    }\n",
              "</style>\n",
              "<table border=\"1\" class=\"dataframe\">\n",
              "  <thead>\n",
              "    <tr style=\"text-align: right;\">\n",
              "      <th></th>\n",
              "      <th>Id</th>\n",
              "      <th>MSSubClass</th>\n",
              "      <th>MSZoning</th>\n",
              "      <th>LotFrontage</th>\n",
              "      <th>LotArea</th>\n",
              "      <th>Street</th>\n",
              "      <th>Alley</th>\n",
              "      <th>LotShape</th>\n",
              "      <th>LandContour</th>\n",
              "      <th>Utilities</th>\n",
              "      <th>...</th>\n",
              "      <th>PoolArea</th>\n",
              "      <th>PoolQC</th>\n",
              "      <th>Fence</th>\n",
              "      <th>MiscFeature</th>\n",
              "      <th>MiscVal</th>\n",
              "      <th>MoSold</th>\n",
              "      <th>YrSold</th>\n",
              "      <th>SaleType</th>\n",
              "      <th>SaleCondition</th>\n",
              "      <th>SalePrice</th>\n",
              "    </tr>\n",
              "  </thead>\n",
              "  <tbody>\n",
              "    <tr>\n",
              "      <th>0</th>\n",
              "      <td>127</td>\n",
              "      <td>120</td>\n",
              "      <td>RL</td>\n",
              "      <td>NaN</td>\n",
              "      <td>4928</td>\n",
              "      <td>Pave</td>\n",
              "      <td>NaN</td>\n",
              "      <td>IR1</td>\n",
              "      <td>Lvl</td>\n",
              "      <td>AllPub</td>\n",
              "      <td>...</td>\n",
              "      <td>0</td>\n",
              "      <td>NaN</td>\n",
              "      <td>NaN</td>\n",
              "      <td>NaN</td>\n",
              "      <td>0</td>\n",
              "      <td>2</td>\n",
              "      <td>2007</td>\n",
              "      <td>WD</td>\n",
              "      <td>Normal</td>\n",
              "      <td>128000</td>\n",
              "    </tr>\n",
              "    <tr>\n",
              "      <th>1</th>\n",
              "      <td>889</td>\n",
              "      <td>20</td>\n",
              "      <td>RL</td>\n",
              "      <td>95.0</td>\n",
              "      <td>15865</td>\n",
              "      <td>Pave</td>\n",
              "      <td>NaN</td>\n",
              "      <td>IR1</td>\n",
              "      <td>Lvl</td>\n",
              "      <td>AllPub</td>\n",
              "      <td>...</td>\n",
              "      <td>0</td>\n",
              "      <td>NaN</td>\n",
              "      <td>NaN</td>\n",
              "      <td>NaN</td>\n",
              "      <td>0</td>\n",
              "      <td>10</td>\n",
              "      <td>2007</td>\n",
              "      <td>WD</td>\n",
              "      <td>Normal</td>\n",
              "      <td>268000</td>\n",
              "    </tr>\n",
              "    <tr>\n",
              "      <th>2</th>\n",
              "      <td>793</td>\n",
              "      <td>60</td>\n",
              "      <td>RL</td>\n",
              "      <td>92.0</td>\n",
              "      <td>9920</td>\n",
              "      <td>Pave</td>\n",
              "      <td>NaN</td>\n",
              "      <td>IR1</td>\n",
              "      <td>Lvl</td>\n",
              "      <td>AllPub</td>\n",
              "      <td>...</td>\n",
              "      <td>0</td>\n",
              "      <td>NaN</td>\n",
              "      <td>NaN</td>\n",
              "      <td>NaN</td>\n",
              "      <td>0</td>\n",
              "      <td>6</td>\n",
              "      <td>2007</td>\n",
              "      <td>WD</td>\n",
              "      <td>Normal</td>\n",
              "      <td>269790</td>\n",
              "    </tr>\n",
              "    <tr>\n",
              "      <th>3</th>\n",
              "      <td>110</td>\n",
              "      <td>20</td>\n",
              "      <td>RL</td>\n",
              "      <td>105.0</td>\n",
              "      <td>11751</td>\n",
              "      <td>Pave</td>\n",
              "      <td>NaN</td>\n",
              "      <td>IR1</td>\n",
              "      <td>Lvl</td>\n",
              "      <td>AllPub</td>\n",
              "      <td>...</td>\n",
              "      <td>0</td>\n",
              "      <td>NaN</td>\n",
              "      <td>MnPrv</td>\n",
              "      <td>NaN</td>\n",
              "      <td>0</td>\n",
              "      <td>1</td>\n",
              "      <td>2010</td>\n",
              "      <td>COD</td>\n",
              "      <td>Normal</td>\n",
              "      <td>190000</td>\n",
              "    </tr>\n",
              "    <tr>\n",
              "      <th>4</th>\n",
              "      <td>422</td>\n",
              "      <td>20</td>\n",
              "      <td>RL</td>\n",
              "      <td>NaN</td>\n",
              "      <td>16635</td>\n",
              "      <td>Pave</td>\n",
              "      <td>NaN</td>\n",
              "      <td>IR1</td>\n",
              "      <td>Lvl</td>\n",
              "      <td>AllPub</td>\n",
              "      <td>...</td>\n",
              "      <td>0</td>\n",
              "      <td>NaN</td>\n",
              "      <td>NaN</td>\n",
              "      <td>NaN</td>\n",
              "      <td>0</td>\n",
              "      <td>6</td>\n",
              "      <td>2009</td>\n",
              "      <td>WD</td>\n",
              "      <td>Normal</td>\n",
              "      <td>215000</td>\n",
              "    </tr>\n",
              "    <tr>\n",
              "      <th>5</th>\n",
              "      <td>1197</td>\n",
              "      <td>60</td>\n",
              "      <td>RL</td>\n",
              "      <td>58.0</td>\n",
              "      <td>14054</td>\n",
              "      <td>Pave</td>\n",
              "      <td>NaN</td>\n",
              "      <td>IR1</td>\n",
              "      <td>Lvl</td>\n",
              "      <td>AllPub</td>\n",
              "      <td>...</td>\n",
              "      <td>0</td>\n",
              "      <td>NaN</td>\n",
              "      <td>NaN</td>\n",
              "      <td>NaN</td>\n",
              "      <td>0</td>\n",
              "      <td>11</td>\n",
              "      <td>2006</td>\n",
              "      <td>New</td>\n",
              "      <td>Partial</td>\n",
              "      <td>219210</td>\n",
              "    </tr>\n",
              "    <tr>\n",
              "      <th>6</th>\n",
              "      <td>561</td>\n",
              "      <td>20</td>\n",
              "      <td>RL</td>\n",
              "      <td>NaN</td>\n",
              "      <td>11341</td>\n",
              "      <td>Pave</td>\n",
              "      <td>NaN</td>\n",
              "      <td>IR1</td>\n",
              "      <td>Lvl</td>\n",
              "      <td>AllPub</td>\n",
              "      <td>...</td>\n",
              "      <td>0</td>\n",
              "      <td>NaN</td>\n",
              "      <td>NaN</td>\n",
              "      <td>NaN</td>\n",
              "      <td>0</td>\n",
              "      <td>5</td>\n",
              "      <td>2010</td>\n",
              "      <td>WD</td>\n",
              "      <td>Normal</td>\n",
              "      <td>121500</td>\n",
              "    </tr>\n",
              "    <tr>\n",
              "      <th>7</th>\n",
              "      <td>1041</td>\n",
              "      <td>20</td>\n",
              "      <td>RL</td>\n",
              "      <td>88.0</td>\n",
              "      <td>13125</td>\n",
              "      <td>Pave</td>\n",
              "      <td>NaN</td>\n",
              "      <td>Reg</td>\n",
              "      <td>Lvl</td>\n",
              "      <td>AllPub</td>\n",
              "      <td>...</td>\n",
              "      <td>0</td>\n",
              "      <td>NaN</td>\n",
              "      <td>GdPrv</td>\n",
              "      <td>NaN</td>\n",
              "      <td>0</td>\n",
              "      <td>1</td>\n",
              "      <td>2006</td>\n",
              "      <td>WD</td>\n",
              "      <td>Normal</td>\n",
              "      <td>155000</td>\n",
              "    </tr>\n",
              "    <tr>\n",
              "      <th>8</th>\n",
              "      <td>503</td>\n",
              "      <td>20</td>\n",
              "      <td>RL</td>\n",
              "      <td>70.0</td>\n",
              "      <td>9170</td>\n",
              "      <td>Pave</td>\n",
              "      <td>NaN</td>\n",
              "      <td>Reg</td>\n",
              "      <td>Lvl</td>\n",
              "      <td>AllPub</td>\n",
              "      <td>...</td>\n",
              "      <td>0</td>\n",
              "      <td>NaN</td>\n",
              "      <td>GdPrv</td>\n",
              "      <td>Shed</td>\n",
              "      <td>400</td>\n",
              "      <td>4</td>\n",
              "      <td>2007</td>\n",
              "      <td>WD</td>\n",
              "      <td>Normal</td>\n",
              "      <td>140000</td>\n",
              "    </tr>\n",
              "    <tr>\n",
              "      <th>9</th>\n",
              "      <td>576</td>\n",
              "      <td>50</td>\n",
              "      <td>RL</td>\n",
              "      <td>80.0</td>\n",
              "      <td>8480</td>\n",
              "      <td>Pave</td>\n",
              "      <td>NaN</td>\n",
              "      <td>Reg</td>\n",
              "      <td>Lvl</td>\n",
              "      <td>AllPub</td>\n",
              "      <td>...</td>\n",
              "      <td>0</td>\n",
              "      <td>NaN</td>\n",
              "      <td>NaN</td>\n",
              "      <td>NaN</td>\n",
              "      <td>0</td>\n",
              "      <td>10</td>\n",
              "      <td>2008</td>\n",
              "      <td>COD</td>\n",
              "      <td>Abnorml</td>\n",
              "      <td>118500</td>\n",
              "    </tr>\n",
              "  </tbody>\n",
              "</table>\n",
              "<p>10 rows × 81 columns</p>\n",
              "</div>\n",
              "      <button class=\"colab-df-convert\" onclick=\"convertToInteractive('df-74ce7333-b82c-4220-87a0-6ceff951f4e7')\"\n",
              "              title=\"Convert this dataframe to an interactive table.\"\n",
              "              style=\"display:none;\">\n",
              "        \n",
              "  <svg xmlns=\"http://www.w3.org/2000/svg\" height=\"24px\"viewBox=\"0 0 24 24\"\n",
              "       width=\"24px\">\n",
              "    <path d=\"M0 0h24v24H0V0z\" fill=\"none\"/>\n",
              "    <path d=\"M18.56 5.44l.94 2.06.94-2.06 2.06-.94-2.06-.94-.94-2.06-.94 2.06-2.06.94zm-11 1L8.5 8.5l.94-2.06 2.06-.94-2.06-.94L8.5 2.5l-.94 2.06-2.06.94zm10 10l.94 2.06.94-2.06 2.06-.94-2.06-.94-.94-2.06-.94 2.06-2.06.94z\"/><path d=\"M17.41 7.96l-1.37-1.37c-.4-.4-.92-.59-1.43-.59-.52 0-1.04.2-1.43.59L10.3 9.45l-7.72 7.72c-.78.78-.78 2.05 0 2.83L4 21.41c.39.39.9.59 1.41.59.51 0 1.02-.2 1.41-.59l7.78-7.78 2.81-2.81c.8-.78.8-2.07 0-2.86zM5.41 20L4 18.59l7.72-7.72 1.47 1.35L5.41 20z\"/>\n",
              "  </svg>\n",
              "      </button>\n",
              "      \n",
              "  <style>\n",
              "    .colab-df-container {\n",
              "      display:flex;\n",
              "      flex-wrap:wrap;\n",
              "      gap: 12px;\n",
              "    }\n",
              "\n",
              "    .colab-df-convert {\n",
              "      background-color: #E8F0FE;\n",
              "      border: none;\n",
              "      border-radius: 50%;\n",
              "      cursor: pointer;\n",
              "      display: none;\n",
              "      fill: #1967D2;\n",
              "      height: 32px;\n",
              "      padding: 0 0 0 0;\n",
              "      width: 32px;\n",
              "    }\n",
              "\n",
              "    .colab-df-convert:hover {\n",
              "      background-color: #E2EBFA;\n",
              "      box-shadow: 0px 1px 2px rgba(60, 64, 67, 0.3), 0px 1px 3px 1px rgba(60, 64, 67, 0.15);\n",
              "      fill: #174EA6;\n",
              "    }\n",
              "\n",
              "    [theme=dark] .colab-df-convert {\n",
              "      background-color: #3B4455;\n",
              "      fill: #D2E3FC;\n",
              "    }\n",
              "\n",
              "    [theme=dark] .colab-df-convert:hover {\n",
              "      background-color: #434B5C;\n",
              "      box-shadow: 0px 1px 3px 1px rgba(0, 0, 0, 0.15);\n",
              "      filter: drop-shadow(0px 1px 2px rgba(0, 0, 0, 0.3));\n",
              "      fill: #FFFFFF;\n",
              "    }\n",
              "  </style>\n",
              "\n",
              "      <script>\n",
              "        const buttonEl =\n",
              "          document.querySelector('#df-74ce7333-b82c-4220-87a0-6ceff951f4e7 button.colab-df-convert');\n",
              "        buttonEl.style.display =\n",
              "          google.colab.kernel.accessAllowed ? 'block' : 'none';\n",
              "\n",
              "        async function convertToInteractive(key) {\n",
              "          const element = document.querySelector('#df-74ce7333-b82c-4220-87a0-6ceff951f4e7');\n",
              "          const dataTable =\n",
              "            await google.colab.kernel.invokeFunction('convertToInteractive',\n",
              "                                                     [key], {});\n",
              "          if (!dataTable) return;\n",
              "\n",
              "          const docLinkHtml = 'Like what you see? Visit the ' +\n",
              "            '<a target=\"_blank\" href=https://colab.research.google.com/notebooks/data_table.ipynb>data table notebook</a>'\n",
              "            + ' to learn more about interactive tables.';\n",
              "          element.innerHTML = '';\n",
              "          dataTable['output_type'] = 'display_data';\n",
              "          await google.colab.output.renderOutput(dataTable, element);\n",
              "          const docLink = document.createElement('div');\n",
              "          docLink.innerHTML = docLinkHtml;\n",
              "          element.appendChild(docLink);\n",
              "        }\n",
              "      </script>\n",
              "    </div>\n",
              "  </div>\n",
              "  "
            ]
          },
          "metadata": {},
          "execution_count": 12
        }
      ],
      "source": [
        "price.head(10)"
      ]
    },
    {
      "cell_type": "markdown",
      "id": "3e948526",
      "metadata": {
        "id": "3e948526"
      },
      "source": [
        "EDA"
      ]
    },
    {
      "cell_type": "markdown",
      "id": "e922bcb5",
      "metadata": {
        "id": "e922bcb5"
      },
      "source": [
        "Hadling missing values"
      ]
    },
    {
      "cell_type": "code",
      "execution_count": 14,
      "id": "2d7bc896",
      "metadata": {
        "id": "2d7bc896",
        "outputId": "022fae27-6801-4874-d819-5fd49fa2d320",
        "colab": {
          "base_uri": "https://localhost:8080/"
        }
      },
      "outputs": [
        {
          "output_type": "stream",
          "name": "stdout",
          "text": [
            "<class 'pandas.core.frame.DataFrame'>\n",
            "RangeIndex: 1168 entries, 0 to 1167\n",
            "Data columns (total 81 columns):\n",
            " #   Column         Non-Null Count  Dtype  \n",
            "---  ------         --------------  -----  \n",
            " 0   Id             1168 non-null   int64  \n",
            " 1   MSSubClass     1168 non-null   int64  \n",
            " 2   MSZoning       1168 non-null   object \n",
            " 3   LotFrontage    954 non-null    float64\n",
            " 4   LotArea        1168 non-null   int64  \n",
            " 5   Street         1168 non-null   object \n",
            " 6   Alley          77 non-null     object \n",
            " 7   LotShape       1168 non-null   object \n",
            " 8   LandContour    1168 non-null   object \n",
            " 9   Utilities      1168 non-null   object \n",
            " 10  LotConfig      1168 non-null   object \n",
            " 11  LandSlope      1168 non-null   object \n",
            " 12  Neighborhood   1168 non-null   object \n",
            " 13  Condition1     1168 non-null   object \n",
            " 14  Condition2     1168 non-null   object \n",
            " 15  BldgType       1168 non-null   object \n",
            " 16  HouseStyle     1168 non-null   object \n",
            " 17  OverallQual    1168 non-null   int64  \n",
            " 18  OverallCond    1168 non-null   int64  \n",
            " 19  YearBuilt      1168 non-null   int64  \n",
            " 20  YearRemodAdd   1168 non-null   int64  \n",
            " 21  RoofStyle      1168 non-null   object \n",
            " 22  RoofMatl       1168 non-null   object \n",
            " 23  Exterior1st    1168 non-null   object \n",
            " 24  Exterior2nd    1168 non-null   object \n",
            " 25  MasVnrType     1161 non-null   object \n",
            " 26  MasVnrArea     1161 non-null   float64\n",
            " 27  ExterQual      1168 non-null   object \n",
            " 28  ExterCond      1168 non-null   object \n",
            " 29  Foundation     1168 non-null   object \n",
            " 30  BsmtQual       1138 non-null   object \n",
            " 31  BsmtCond       1138 non-null   object \n",
            " 32  BsmtExposure   1137 non-null   object \n",
            " 33  BsmtFinType1   1138 non-null   object \n",
            " 34  BsmtFinSF1     1168 non-null   int64  \n",
            " 35  BsmtFinType2   1137 non-null   object \n",
            " 36  BsmtFinSF2     1168 non-null   int64  \n",
            " 37  BsmtUnfSF      1168 non-null   int64  \n",
            " 38  TotalBsmtSF    1168 non-null   int64  \n",
            " 39  Heating        1168 non-null   object \n",
            " 40  HeatingQC      1168 non-null   object \n",
            " 41  CentralAir     1168 non-null   object \n",
            " 42  Electrical     1168 non-null   object \n",
            " 43  1stFlrSF       1168 non-null   int64  \n",
            " 44  2ndFlrSF       1168 non-null   int64  \n",
            " 45  LowQualFinSF   1168 non-null   int64  \n",
            " 46  GrLivArea      1168 non-null   int64  \n",
            " 47  BsmtFullBath   1168 non-null   int64  \n",
            " 48  BsmtHalfBath   1168 non-null   int64  \n",
            " 49  FullBath       1168 non-null   int64  \n",
            " 50  HalfBath       1168 non-null   int64  \n",
            " 51  BedroomAbvGr   1168 non-null   int64  \n",
            " 52  KitchenAbvGr   1168 non-null   int64  \n",
            " 53  KitchenQual    1168 non-null   object \n",
            " 54  TotRmsAbvGrd   1168 non-null   int64  \n",
            " 55  Functional     1168 non-null   object \n",
            " 56  Fireplaces     1168 non-null   int64  \n",
            " 57  FireplaceQu    617 non-null    object \n",
            " 58  GarageType     1104 non-null   object \n",
            " 59  GarageYrBlt    1104 non-null   float64\n",
            " 60  GarageFinish   1104 non-null   object \n",
            " 61  GarageCars     1168 non-null   int64  \n",
            " 62  GarageArea     1168 non-null   int64  \n",
            " 63  GarageQual     1104 non-null   object \n",
            " 64  GarageCond     1104 non-null   object \n",
            " 65  PavedDrive     1168 non-null   object \n",
            " 66  WoodDeckSF     1168 non-null   int64  \n",
            " 67  OpenPorchSF    1168 non-null   int64  \n",
            " 68  EnclosedPorch  1168 non-null   int64  \n",
            " 69  3SsnPorch      1168 non-null   int64  \n",
            " 70  ScreenPorch    1168 non-null   int64  \n",
            " 71  PoolArea       1168 non-null   int64  \n",
            " 72  PoolQC         7 non-null      object \n",
            " 73  Fence          237 non-null    object \n",
            " 74  MiscFeature    44 non-null     object \n",
            " 75  MiscVal        1168 non-null   int64  \n",
            " 76  MoSold         1168 non-null   int64  \n",
            " 77  YrSold         1168 non-null   int64  \n",
            " 78  SaleType       1168 non-null   object \n",
            " 79  SaleCondition  1168 non-null   object \n",
            " 80  SalePrice      1168 non-null   int64  \n",
            "dtypes: float64(3), int64(35), object(43)\n",
            "memory usage: 739.2+ KB\n"
          ]
        }
      ],
      "source": [
        "price.info()"
      ]
    },
    {
      "cell_type": "code",
      "execution_count": 15,
      "id": "9f7ff77c",
      "metadata": {
        "id": "9f7ff77c",
        "outputId": "656cf8a0-4e6d-4844-d5b2-bdff9c61af49",
        "colab": {
          "base_uri": "https://localhost:8080/"
        }
      },
      "outputs": [
        {
          "output_type": "execute_result",
          "data": {
            "text/plain": [
              "(1168, 81)"
            ]
          },
          "metadata": {},
          "execution_count": 15
        }
      ],
      "source": [
        "price.shape"
      ]
    },
    {
      "cell_type": "code",
      "execution_count": 16,
      "id": "f2fb75fb",
      "metadata": {
        "scrolled": true,
        "id": "f2fb75fb",
        "outputId": "10bd1ef5-979f-4226-c39f-e6d1b21d2327",
        "colab": {
          "base_uri": "https://localhost:8080/"
        }
      },
      "outputs": [
        {
          "output_type": "stream",
          "name": "stdout",
          "text": [
            "127     1\n",
            "1391    1\n",
            "1389    1\n",
            "448     1\n",
            "1179    1\n",
            "       ..\n",
            "1402    1\n",
            "661     1\n",
            "101     1\n",
            "415     1\n",
            "617     1\n",
            "Name: Id, Length: 1168, dtype: int64\n",
            "****************************************\n",
            "20     428\n",
            "60     244\n",
            "50     113\n",
            "120     69\n",
            "70      53\n",
            "30      52\n",
            "160     47\n",
            "80      43\n",
            "90      41\n",
            "190     26\n",
            "85      19\n",
            "75      14\n",
            "45      10\n",
            "180      6\n",
            "40       3\n",
            "Name: MSSubClass, dtype: int64\n",
            "****************************************\n",
            "RL         928\n",
            "RM         163\n",
            "FV          52\n",
            "RH          16\n",
            "C (all)      9\n",
            "Name: MSZoning, dtype: int64\n",
            "****************************************\n",
            "60.0     111\n",
            "80.0      60\n",
            "70.0      58\n",
            "75.0      46\n",
            "50.0      44\n",
            "        ... \n",
            "102.0      1\n",
            "144.0      1\n",
            "112.0      1\n",
            "149.0      1\n",
            "153.0      1\n",
            "Name: LotFrontage, Length: 106, dtype: int64\n",
            "****************************************\n",
            "9600     21\n",
            "7200     18\n",
            "6000     16\n",
            "8400     14\n",
            "9000     11\n",
            "         ..\n",
            "12803     1\n",
            "9480      1\n",
            "13478     1\n",
            "12122     1\n",
            "7861      1\n",
            "Name: LotArea, Length: 892, dtype: int64\n",
            "****************************************\n",
            "Pave    1164\n",
            "Grvl       4\n",
            "Name: Street, dtype: int64\n",
            "****************************************\n",
            "Grvl    41\n",
            "Pave    36\n",
            "Name: Alley, dtype: int64\n",
            "****************************************\n",
            "Reg    740\n",
            "IR1    390\n",
            "IR2     32\n",
            "IR3      6\n",
            "Name: LotShape, dtype: int64\n",
            "****************************************\n",
            "Lvl    1046\n",
            "Bnk      50\n",
            "HLS      42\n",
            "Low      30\n",
            "Name: LandContour, dtype: int64\n",
            "****************************************\n",
            "AllPub    1168\n",
            "Name: Utilities, dtype: int64\n",
            "****************************************\n",
            "Inside     842\n",
            "Corner     222\n",
            "CulDSac     69\n",
            "FR2         33\n",
            "FR3          2\n",
            "Name: LotConfig, dtype: int64\n",
            "****************************************\n",
            "Gtl    1105\n",
            "Mod      51\n",
            "Sev      12\n",
            "Name: LandSlope, dtype: int64\n",
            "****************************************\n",
            "NAmes      182\n",
            "CollgCr    118\n",
            "OldTown     86\n",
            "Edwards     83\n",
            "Somerst     68\n",
            "Gilbert     64\n",
            "NridgHt     61\n",
            "Sawyer      60\n",
            "NWAmes      59\n",
            "SawyerW     51\n",
            "BrkSide     50\n",
            "Crawfor     45\n",
            "NoRidge     35\n",
            "Mitchel     34\n",
            "IDOTRR      30\n",
            "Timber      24\n",
            "ClearCr     24\n",
            "SWISU       21\n",
            "StoneBr     19\n",
            "Blmngtn     15\n",
            "BrDale      11\n",
            "MeadowV      9\n",
            "Veenker      9\n",
            "NPkVill      8\n",
            "Blueste      2\n",
            "Name: Neighborhood, dtype: int64\n",
            "****************************************\n",
            "Norm      1005\n",
            "Feedr       67\n",
            "Artery      38\n",
            "RRAn        20\n",
            "PosN        17\n",
            "RRAe         9\n",
            "PosA         6\n",
            "RRNn         4\n",
            "RRNe         2\n",
            "Name: Condition1, dtype: int64\n",
            "****************************************\n",
            "Norm      1154\n",
            "Feedr        6\n",
            "PosN         2\n",
            "Artery       2\n",
            "RRAe         1\n",
            "RRNn         1\n",
            "PosA         1\n",
            "RRAn         1\n",
            "Name: Condition2, dtype: int64\n",
            "****************************************\n",
            "1Fam      981\n",
            "TwnhsE     90\n",
            "Duplex     41\n",
            "Twnhs      29\n",
            "2fmCon     27\n",
            "Name: BldgType, dtype: int64\n",
            "****************************************\n",
            "1Story    578\n",
            "2Story    361\n",
            "1.5Fin    121\n",
            "SLvl       47\n",
            "SFoyer     32\n",
            "1.5Unf     12\n",
            "2.5Unf     10\n",
            "2.5Fin      7\n",
            "Name: HouseStyle, dtype: int64\n",
            "****************************************\n",
            "5     314\n",
            "6     295\n",
            "7     260\n",
            "8     138\n",
            "4      93\n",
            "9      32\n",
            "3      16\n",
            "10     15\n",
            "2       3\n",
            "1       2\n",
            "Name: OverallQual, dtype: int64\n",
            "****************************************\n",
            "5    640\n",
            "6    209\n",
            "7    172\n",
            "8     61\n",
            "4     43\n",
            "3     21\n",
            "9     16\n",
            "2      5\n",
            "1      1\n",
            "Name: OverallCond, dtype: int64\n",
            "****************************************\n",
            "2006    57\n",
            "2005    51\n",
            "2007    41\n",
            "2004    37\n",
            "2003    33\n",
            "        ..\n",
            "1927     1\n",
            "1911     1\n",
            "2010     1\n",
            "1892     1\n",
            "1913     1\n",
            "Name: YearBuilt, Length: 110, dtype: int64\n",
            "****************************************\n",
            "1950    146\n",
            "2006     82\n",
            "2007     64\n",
            "2005     57\n",
            "2004     46\n",
            "       ... \n",
            "1984      5\n",
            "1951      4\n",
            "1983      4\n",
            "1952      4\n",
            "1974      4\n",
            "Name: YearRemodAdd, Length: 61, dtype: int64\n",
            "****************************************\n",
            "Gable      915\n",
            "Hip        225\n",
            "Flat        12\n",
            "Gambrel      9\n",
            "Mansard      5\n",
            "Shed         2\n",
            "Name: RoofStyle, dtype: int64\n",
            "****************************************\n",
            "CompShg    1144\n",
            "Tar&Grv      10\n",
            "WdShngl       6\n",
            "WdShake       4\n",
            "Roll          1\n",
            "ClyTile       1\n",
            "Metal         1\n",
            "Membran       1\n",
            "Name: RoofMatl, dtype: int64\n",
            "****************************************\n",
            "VinylSd    396\n",
            "HdBoard    179\n",
            "MetalSd    178\n",
            "Wd Sdng    174\n",
            "Plywood     93\n",
            "CemntBd     42\n",
            "BrkFace     41\n",
            "Stucco      22\n",
            "WdShing     19\n",
            "AsbShng     19\n",
            "Stone        2\n",
            "AsphShn      1\n",
            "ImStucc      1\n",
            "BrkComm      1\n",
            "Name: Exterior1st, dtype: int64\n",
            "****************************************\n",
            "VinylSd    387\n",
            "MetalSd    173\n",
            "HdBoard    170\n",
            "Wd Sdng    165\n",
            "Plywood    118\n",
            "CmentBd     42\n",
            "Wd Shng     31\n",
            "Stucco      23\n",
            "BrkFace     20\n",
            "AsbShng     18\n",
            "ImStucc      8\n",
            "Brk Cmn      5\n",
            "Stone        4\n",
            "AsphShn      3\n",
            "Other        1\n",
            "Name: Exterior2nd, dtype: int64\n",
            "****************************************\n",
            "None       696\n",
            "BrkFace    354\n",
            "Stone       98\n",
            "BrkCmn      13\n",
            "Name: MasVnrType, dtype: int64\n",
            "****************************************\n",
            "0.0      692\n",
            "72.0       7\n",
            "180.0      6\n",
            "120.0      6\n",
            "106.0      5\n",
            "        ... \n",
            "653.0      1\n",
            "975.0      1\n",
            "226.0      1\n",
            "204.0      1\n",
            "31.0       1\n",
            "Name: MasVnrArea, Length: 283, dtype: int64\n",
            "****************************************\n",
            "TA    717\n",
            "Gd    397\n",
            "Ex     43\n",
            "Fa     11\n",
            "Name: ExterQual, dtype: int64\n",
            "****************************************\n",
            "TA    1022\n",
            "Gd     117\n",
            "Fa      26\n",
            "Ex       2\n",
            "Po       1\n",
            "Name: ExterCond, dtype: int64\n",
            "****************************************\n",
            "CBlock    516\n",
            "PConc     513\n",
            "BrkTil    112\n",
            "Slab       21\n",
            "Stone       5\n",
            "Wood        1\n",
            "Name: Foundation, dtype: int64\n",
            "****************************************\n",
            "TA    517\n",
            "Gd    498\n",
            "Ex     94\n",
            "Fa     29\n",
            "Name: BsmtQual, dtype: int64\n",
            "****************************************\n",
            "TA    1041\n",
            "Gd      56\n",
            "Fa      39\n",
            "Po       2\n",
            "Name: BsmtCond, dtype: int64\n",
            "****************************************\n",
            "No    756\n",
            "Av    180\n",
            "Gd    108\n",
            "Mn     93\n",
            "Name: BsmtExposure, dtype: int64\n",
            "****************************************\n",
            "Unf    345\n",
            "GLQ    330\n",
            "ALQ    174\n",
            "BLQ    121\n",
            "Rec    109\n",
            "LwQ     59\n",
            "Name: BsmtFinType1, dtype: int64\n",
            "****************************************\n",
            "0      375\n",
            "24      10\n",
            "16       8\n",
            "20       5\n",
            "616      5\n",
            "      ... \n",
            "586      1\n",
            "412      1\n",
            "416      1\n",
            "602      1\n",
            "457      1\n",
            "Name: BsmtFinSF1, Length: 551, dtype: int64\n",
            "****************************************\n",
            "Unf    1002\n",
            "Rec      43\n",
            "LwQ      40\n",
            "BLQ      24\n",
            "ALQ      16\n",
            "GLQ      12\n",
            "Name: BsmtFinType2, dtype: int64\n",
            "****************************************\n",
            "0      1032\n",
            "180       5\n",
            "41        2\n",
            "147       2\n",
            "117       2\n",
            "       ... \n",
            "531       1\n",
            "40        1\n",
            "121       1\n",
            "608       1\n",
            "546       1\n",
            "Name: BsmtFinSF2, Length: 122, dtype: int64\n",
            "****************************************\n",
            "0      97\n",
            "728     8\n",
            "440     6\n",
            "600     6\n",
            "300     6\n",
            "       ..\n",
            "323     1\n",
            "487     1\n",
            "349     1\n",
            "793     1\n",
            "649     1\n",
            "Name: BsmtUnfSF, Length: 681, dtype: int64\n",
            "****************************************\n",
            "0       30\n",
            "864     28\n",
            "912     13\n",
            "672     13\n",
            "816     12\n",
            "        ..\n",
            "319      1\n",
            "1318     1\n",
            "1198     1\n",
            "1251     1\n",
            "1582     1\n",
            "Name: TotalBsmtSF, Length: 636, dtype: int64\n",
            "****************************************\n",
            "GasA     1143\n",
            "GasW       14\n",
            "Grav        5\n",
            "Wall        4\n",
            "Floor       1\n",
            "OthW        1\n",
            "Name: Heating, dtype: int64\n",
            "****************************************\n",
            "Ex    585\n",
            "TA    352\n",
            "Gd    192\n",
            "Fa     38\n",
            "Po      1\n",
            "Name: HeatingQC, dtype: int64\n",
            "****************************************\n",
            "Y    1090\n",
            "N      78\n",
            "Name: CentralAir, dtype: int64\n",
            "****************************************\n",
            "SBrkr    1070\n",
            "FuseA      74\n",
            "FuseF      21\n",
            "FuseP       2\n",
            "Mix         1\n",
            "Name: Electrical, dtype: int64\n",
            "****************************************\n",
            "864     19\n",
            "1040    13\n",
            "912     12\n",
            "894     10\n",
            "848      9\n",
            "        ..\n",
            "1516     1\n",
            "813      1\n",
            "2633     1\n",
            "1015     1\n",
            "807      1\n",
            "Name: 1stFlrSF, Length: 669, dtype: int64\n",
            "****************************************\n",
            "0       663\n",
            "728       9\n",
            "504       7\n",
            "600       6\n",
            "672       6\n",
            "       ... \n",
            "1066      1\n",
            "467       1\n",
            "1038      1\n",
            "881       1\n",
            "978       1\n",
            "Name: 2ndFlrSF, Length: 351, dtype: int64\n",
            "****************************************\n",
            "0      1145\n",
            "80        3\n",
            "360       2\n",
            "384       1\n",
            "420       1\n",
            "473       1\n",
            "371       1\n",
            "232       1\n",
            "513       1\n",
            "481       1\n",
            "515       1\n",
            "514       1\n",
            "120       1\n",
            "528       1\n",
            "572       1\n",
            "144       1\n",
            "234       1\n",
            "390       1\n",
            "156       1\n",
            "53        1\n",
            "392       1\n",
            "Name: LowQualFinSF, dtype: int64\n",
            "****************************************\n",
            "864     16\n",
            "1040    11\n",
            "894     10\n",
            "1456     9\n",
            "1200     8\n",
            "        ..\n",
            "1610     1\n",
            "2576     1\n",
            "2810     1\n",
            "1691     1\n",
            "1509     1\n",
            "Name: GrLivArea, Length: 746, dtype: int64\n",
            "****************************************\n",
            "0    686\n",
            "1    468\n",
            "2     13\n",
            "3      1\n",
            "Name: BsmtFullBath, dtype: int64\n",
            "****************************************\n",
            "0    1105\n",
            "1      61\n",
            "2       2\n",
            "Name: BsmtHalfBath, dtype: int64\n",
            "****************************************\n",
            "2    610\n",
            "1    524\n",
            "3     27\n",
            "0      7\n",
            "Name: FullBath, dtype: int64\n",
            "****************************************\n",
            "0    724\n",
            "1    434\n",
            "2     10\n",
            "Name: HalfBath, dtype: int64\n",
            "****************************************\n",
            "3    640\n",
            "2    281\n",
            "4    180\n",
            "1     39\n",
            "5     18\n",
            "6      5\n",
            "0      4\n",
            "8      1\n",
            "Name: BedroomAbvGr, dtype: int64\n",
            "****************************************\n",
            "1    1114\n",
            "2      52\n",
            "3       1\n",
            "0       1\n",
            "Name: KitchenAbvGr, dtype: int64\n",
            "****************************************\n",
            "TA    578\n",
            "Gd    478\n",
            "Ex     82\n",
            "Fa     30\n",
            "Name: KitchenQual, dtype: int64\n",
            "****************************************\n",
            "6     325\n",
            "7     268\n",
            "5     217\n",
            "8     148\n",
            "4      72\n",
            "9      65\n",
            "10     41\n",
            "11     13\n",
            "3      11\n",
            "12      6\n",
            "2       1\n",
            "14      1\n",
            "Name: TotRmsAbvGrd, dtype: int64\n",
            "****************************************\n",
            "Typ     1085\n",
            "Min2      30\n",
            "Min1      25\n",
            "Mod       12\n",
            "Maj1      11\n",
            "Maj2       4\n",
            "Sev        1\n",
            "Name: Functional, dtype: int64\n",
            "****************************************\n",
            "0    551\n",
            "1    518\n",
            "2     94\n",
            "3      5\n",
            "Name: Fireplaces, dtype: int64\n",
            "****************************************\n",
            "Gd    301\n",
            "TA    252\n",
            "Fa     25\n",
            "Ex     21\n",
            "Po     18\n",
            "Name: FireplaceQu, dtype: int64\n",
            "****************************************\n",
            "Attchd     691\n",
            "Detchd     314\n",
            "BuiltIn     70\n",
            "Basment     16\n",
            "CarPort      8\n",
            "2Types       5\n",
            "Name: GarageType, dtype: int64\n",
            "****************************************\n",
            "2006.0    52\n",
            "2005.0    51\n",
            "2007.0    40\n",
            "2003.0    37\n",
            "2004.0    36\n",
            "          ..\n",
            "1900.0     1\n",
            "1927.0     1\n",
            "1908.0     1\n",
            "1933.0     1\n",
            "1906.0     1\n",
            "Name: GarageYrBlt, Length: 97, dtype: int64\n",
            "****************************************\n",
            "Unf    487\n",
            "RFn    339\n",
            "Fin    278\n",
            "Name: GarageFinish, dtype: int64\n",
            "****************************************\n",
            "2    665\n",
            "1    288\n",
            "3    147\n",
            "0     64\n",
            "4      4\n",
            "Name: GarageCars, dtype: int64\n",
            "****************************************\n",
            "0      64\n",
            "440    44\n",
            "576    39\n",
            "240    31\n",
            "528    26\n",
            "       ..\n",
            "748     1\n",
            "433     1\n",
            "818     1\n",
            "604     1\n",
            "250     1\n",
            "Name: GarageArea, Length: 392, dtype: int64\n",
            "****************************************\n",
            "TA    1050\n",
            "Fa      39\n",
            "Gd      11\n",
            "Ex       2\n",
            "Po       2\n",
            "Name: GarageQual, dtype: int64\n",
            "****************************************\n",
            "TA    1061\n",
            "Fa      28\n",
            "Gd       8\n",
            "Po       6\n",
            "Ex       1\n",
            "Name: GarageCond, dtype: int64\n",
            "****************************************\n",
            "Y    1071\n",
            "N      74\n",
            "P      23\n",
            "Name: PavedDrive, dtype: int64\n",
            "****************************************\n",
            "0      603\n",
            "144     29\n",
            "192     28\n",
            "100     26\n",
            "120     25\n",
            "      ... \n",
            "278      1\n",
            "70       1\n",
            "351      1\n",
            "314      1\n",
            "87       1\n",
            "Name: WoodDeckSF, Length: 244, dtype: int64\n",
            "****************************************\n",
            "0      531\n",
            "36      24\n",
            "48      18\n",
            "20      17\n",
            "39      14\n",
            "      ... \n",
            "406      1\n",
            "176      1\n",
            "137      1\n",
            "135      1\n",
            "15       1\n",
            "Name: OpenPorchSF, Length: 176, dtype: int64\n",
            "****************************************\n",
            "0      999\n",
            "112     13\n",
            "96       6\n",
            "192      5\n",
            "216      5\n",
            "      ... \n",
            "80       1\n",
            "242      1\n",
            "136      1\n",
            "272      1\n",
            "172      1\n",
            "Name: EnclosedPorch, Length: 106, dtype: int64\n",
            "****************************************\n",
            "0      1146\n",
            "168       3\n",
            "216       2\n",
            "180       2\n",
            "144       2\n",
            "153       1\n",
            "23        1\n",
            "304       1\n",
            "130       1\n",
            "182       1\n",
            "290       1\n",
            "238       1\n",
            "245       1\n",
            "162       1\n",
            "96        1\n",
            "140       1\n",
            "196       1\n",
            "508       1\n",
            "Name: 3SsnPorch, dtype: int64\n",
            "****************************************\n",
            "0      1073\n",
            "192       5\n",
            "224       5\n",
            "189       4\n",
            "180       3\n",
            "       ... \n",
            "273       1\n",
            "99        1\n",
            "122       1\n",
            "80        1\n",
            "130       1\n",
            "Name: ScreenPorch, Length: 65, dtype: int64\n",
            "****************************************\n",
            "0      1161\n",
            "555       1\n",
            "576       1\n",
            "738       1\n",
            "519       1\n",
            "480       1\n",
            "648       1\n",
            "512       1\n",
            "Name: PoolArea, dtype: int64\n",
            "****************************************\n",
            "Gd    3\n",
            "Ex    2\n",
            "Fa    2\n",
            "Name: PoolQC, dtype: int64\n",
            "****************************************\n",
            "MnPrv    129\n",
            "GdPrv     51\n",
            "GdWo      47\n",
            "MnWw      10\n",
            "Name: Fence, dtype: int64\n",
            "****************************************\n",
            "Shed    40\n",
            "Gar2     2\n",
            "TenC     1\n",
            "Othr     1\n",
            "Name: MiscFeature, dtype: int64\n",
            "****************************************\n",
            "0        1126\n",
            "400        10\n",
            "500         7\n",
            "2000        4\n",
            "600         3\n",
            "700         3\n",
            "1200        2\n",
            "1150        1\n",
            "480         1\n",
            "1300        1\n",
            "1400        1\n",
            "8300        1\n",
            "620         1\n",
            "15500       1\n",
            "450         1\n",
            "800         1\n",
            "54          1\n",
            "350         1\n",
            "560         1\n",
            "2500        1\n",
            "Name: MiscVal, dtype: int64\n",
            "****************************************\n",
            "6     203\n",
            "7     187\n",
            "5     166\n",
            "4     113\n",
            "8      95\n",
            "3      87\n",
            "11     67\n",
            "10     66\n",
            "9      57\n",
            "12     46\n",
            "1      44\n",
            "2      37\n",
            "Name: MoSold, dtype: int64\n",
            "****************************************\n",
            "2007    264\n",
            "2009    260\n",
            "2006    254\n",
            "2008    248\n",
            "2010    142\n",
            "Name: YrSold, dtype: int64\n",
            "****************************************\n",
            "WD       999\n",
            "New      106\n",
            "COD       38\n",
            "ConLD      8\n",
            "ConLI      5\n",
            "ConLw      4\n",
            "Oth        3\n",
            "CWD        3\n",
            "Con        2\n",
            "Name: SaleType, dtype: int64\n",
            "****************************************\n",
            "Normal     945\n",
            "Partial    108\n",
            "Abnorml     81\n",
            "Family      18\n",
            "Alloca      12\n",
            "AdjLand      4\n",
            "Name: SaleCondition, dtype: int64\n",
            "****************************************\n",
            "140000    18\n",
            "135000    16\n",
            "155000    12\n",
            "139000    11\n",
            "160000    11\n",
            "          ..\n",
            "203000     1\n",
            "144900     1\n",
            "37900      1\n",
            "178400     1\n",
            "183200     1\n",
            "Name: SalePrice, Length: 581, dtype: int64\n",
            "****************************************\n"
          ]
        }
      ],
      "source": [
        "for i in price.columns:\n",
        "    print(price[i].value_counts())\n",
        "    print(\"*\"*40)"
      ]
    },
    {
      "cell_type": "code",
      "execution_count": 17,
      "id": "a15e3820",
      "metadata": {
        "id": "a15e3820",
        "outputId": "7435be64-e536-4aff-d048-603e48887246",
        "colab": {
          "base_uri": "https://localhost:8080/"
        }
      },
      "outputs": [
        {
          "output_type": "execute_result",
          "data": {
            "text/plain": [
              "60.0     111\n",
              "80.0      60\n",
              "70.0      58\n",
              "75.0      46\n",
              "50.0      44\n",
              "        ... \n",
              "102.0      1\n",
              "144.0      1\n",
              "112.0      1\n",
              "149.0      1\n",
              "153.0      1\n",
              "Name: LotFrontage, Length: 106, dtype: int64"
            ]
          },
          "metadata": {},
          "execution_count": 17
        }
      ],
      "source": [
        "price['LotFrontage'].value_counts()"
      ]
    },
    {
      "cell_type": "code",
      "execution_count": 18,
      "id": "ebfff560",
      "metadata": {
        "id": "ebfff560",
        "outputId": "cbe6b982-f734-40bb-d156-6a3888be11cd",
        "colab": {
          "base_uri": "https://localhost:8080/"
        }
      },
      "outputs": [
        {
          "output_type": "execute_result",
          "data": {
            "text/plain": [
              "0"
            ]
          },
          "metadata": {},
          "execution_count": 18
        }
      ],
      "source": [
        "len(price[price['LotFrontage'] == '']) "
      ]
    },
    {
      "cell_type": "code",
      "execution_count": 19,
      "id": "0bffead3",
      "metadata": {
        "id": "0bffead3",
        "outputId": "c644bd56-acd8-4aa9-e748-18d62c65acc2",
        "colab": {
          "base_uri": "https://localhost:8080/"
        }
      },
      "outputs": [
        {
          "output_type": "execute_result",
          "data": {
            "text/plain": [
              "214"
            ]
          },
          "metadata": {},
          "execution_count": 19
        }
      ],
      "source": [
        "price['LotFrontage'].isnull().sum()"
      ]
    },
    {
      "cell_type": "code",
      "execution_count": 20,
      "id": "193fbb79",
      "metadata": {
        "id": "193fbb79",
        "outputId": "e3c84dd1-3bab-494b-e4d7-a5bc91e3e5ec",
        "colab": {
          "base_uri": "https://localhost:8080/"
        }
      },
      "outputs": [
        {
          "output_type": "stream",
          "name": "stdout",
          "text": [
            "Id :  0\n",
            "MSSubClass :  0\n",
            "MSZoning :  0\n",
            "LotFrontage :  214\n",
            "LotArea :  0\n",
            "Street :  0\n",
            "Alley :  1091\n",
            "LotShape :  0\n",
            "LandContour :  0\n",
            "Utilities :  0\n",
            "LotConfig :  0\n",
            "LandSlope :  0\n",
            "Neighborhood :  0\n",
            "Condition1 :  0\n",
            "Condition2 :  0\n",
            "BldgType :  0\n",
            "HouseStyle :  0\n",
            "OverallQual :  0\n",
            "OverallCond :  0\n",
            "YearBuilt :  0\n",
            "YearRemodAdd :  0\n",
            "RoofStyle :  0\n",
            "RoofMatl :  0\n",
            "Exterior1st :  0\n",
            "Exterior2nd :  0\n",
            "MasVnrType :  7\n",
            "MasVnrArea :  7\n",
            "ExterQual :  0\n",
            "ExterCond :  0\n",
            "Foundation :  0\n",
            "BsmtQual :  30\n",
            "BsmtCond :  30\n",
            "BsmtExposure :  31\n",
            "BsmtFinType1 :  30\n",
            "BsmtFinSF1 :  0\n",
            "BsmtFinType2 :  31\n",
            "BsmtFinSF2 :  0\n",
            "BsmtUnfSF :  0\n",
            "TotalBsmtSF :  0\n",
            "Heating :  0\n",
            "HeatingQC :  0\n",
            "CentralAir :  0\n",
            "Electrical :  0\n",
            "1stFlrSF :  0\n",
            "2ndFlrSF :  0\n",
            "LowQualFinSF :  0\n",
            "GrLivArea :  0\n",
            "BsmtFullBath :  0\n",
            "BsmtHalfBath :  0\n",
            "FullBath :  0\n",
            "HalfBath :  0\n",
            "BedroomAbvGr :  0\n",
            "KitchenAbvGr :  0\n",
            "KitchenQual :  0\n",
            "TotRmsAbvGrd :  0\n",
            "Functional :  0\n",
            "Fireplaces :  0\n",
            "FireplaceQu :  551\n",
            "GarageType :  64\n",
            "GarageYrBlt :  64\n",
            "GarageFinish :  64\n",
            "GarageCars :  0\n",
            "GarageArea :  0\n",
            "GarageQual :  64\n",
            "GarageCond :  64\n",
            "PavedDrive :  0\n",
            "WoodDeckSF :  0\n",
            "OpenPorchSF :  0\n",
            "EnclosedPorch :  0\n",
            "3SsnPorch :  0\n",
            "ScreenPorch :  0\n",
            "PoolArea :  0\n",
            "PoolQC :  1161\n",
            "Fence :  931\n",
            "MiscFeature :  1124\n",
            "MiscVal :  0\n",
            "MoSold :  0\n",
            "YrSold :  0\n",
            "SaleType :  0\n",
            "SaleCondition :  0\n",
            "SalePrice :  0\n"
          ]
        }
      ],
      "source": [
        "for i in price.columns:\n",
        "    ##if(data[i].unique()=='nan'):\n",
        "    print(i,\": \",price[i].isnull().sum())"
      ]
    },
    {
      "cell_type": "code",
      "execution_count": 21,
      "id": "4543aed8",
      "metadata": {
        "scrolled": true,
        "id": "4543aed8"
      },
      "outputs": [],
      "source": [
        "price[\"FireplaceQu\"].fillna(\"No Fireplace\", inplace = True)"
      ]
    },
    {
      "cell_type": "code",
      "execution_count": 22,
      "id": "d13fe323",
      "metadata": {
        "id": "d13fe323",
        "outputId": "fb11e28d-1551-454b-8e44-ff1a156ba145",
        "colab": {
          "base_uri": "https://localhost:8080/"
        }
      },
      "outputs": [
        {
          "output_type": "execute_result",
          "data": {
            "text/plain": [
              "0                 TA\n",
              "1                 TA\n",
              "2                 TA\n",
              "3                 TA\n",
              "4                 TA\n",
              "            ...     \n",
              "1163    No Fireplace\n",
              "1164    No Fireplace\n",
              "1165              TA\n",
              "1166    No Fireplace\n",
              "1167              Gd\n",
              "Name: FireplaceQu, Length: 1168, dtype: object"
            ]
          },
          "metadata": {},
          "execution_count": 22
        }
      ],
      "source": [
        "price[\"FireplaceQu\"]"
      ]
    },
    {
      "cell_type": "code",
      "execution_count": 23,
      "id": "4b93461f",
      "metadata": {
        "scrolled": true,
        "id": "4b93461f"
      },
      "outputs": [],
      "source": [
        "price[\"Alley\"].fillna(\"No alley\", inplace = True)"
      ]
    },
    {
      "cell_type": "code",
      "execution_count": 24,
      "id": "ffa81495",
      "metadata": {
        "scrolled": false,
        "id": "ffa81495",
        "outputId": "9261bcd4-5c70-4947-a468-5fe08ca77d84",
        "colab": {
          "base_uri": "https://localhost:8080/"
        }
      },
      "outputs": [
        {
          "output_type": "execute_result",
          "data": {
            "text/plain": [
              "0       No alley\n",
              "1       No alley\n",
              "2       No alley\n",
              "3       No alley\n",
              "4       No alley\n",
              "          ...   \n",
              "1163    No alley\n",
              "1164    No alley\n",
              "1165    No alley\n",
              "1166        Pave\n",
              "1167    No alley\n",
              "Name: Alley, Length: 1168, dtype: object"
            ]
          },
          "metadata": {},
          "execution_count": 24
        }
      ],
      "source": [
        "price[\"Alley\"]"
      ]
    },
    {
      "cell_type": "code",
      "execution_count": 26,
      "id": "9f254b49",
      "metadata": {
        "id": "9f254b49"
      },
      "outputs": [],
      "source": [
        "price[\"PoolQC\"].fillna(\"No Pool\", inplace = True)"
      ]
    },
    {
      "cell_type": "code",
      "execution_count": 27,
      "id": "03d32322",
      "metadata": {
        "id": "03d32322",
        "outputId": "6287036f-95af-4c19-fc4a-8b012e20cad8",
        "colab": {
          "base_uri": "https://localhost:8080/"
        }
      },
      "outputs": [
        {
          "output_type": "execute_result",
          "data": {
            "text/plain": [
              "0       No Pool\n",
              "1       No Pool\n",
              "2       No Pool\n",
              "3       No Pool\n",
              "4       No Pool\n",
              "         ...   \n",
              "1163    No Pool\n",
              "1164    No Pool\n",
              "1165    No Pool\n",
              "1166    No Pool\n",
              "1167    No Pool\n",
              "Name: PoolQC, Length: 1168, dtype: object"
            ]
          },
          "metadata": {},
          "execution_count": 27
        }
      ],
      "source": [
        "price[\"PoolQC\"]"
      ]
    },
    {
      "cell_type": "code",
      "execution_count": 28,
      "id": "30247bd5",
      "metadata": {
        "id": "30247bd5"
      },
      "outputs": [],
      "source": [
        "price[\"Fence\"].fillna(\"No Fence\", inplace = True)"
      ]
    },
    {
      "cell_type": "code",
      "execution_count": 29,
      "id": "c4413d41",
      "metadata": {
        "id": "c4413d41",
        "outputId": "e04fae4e-c44e-410c-a740-e79f33d45268",
        "colab": {
          "base_uri": "https://localhost:8080/"
        }
      },
      "outputs": [
        {
          "output_type": "execute_result",
          "data": {
            "text/plain": [
              "0       No Fence\n",
              "1       No Fence\n",
              "2       No Fence\n",
              "3          MnPrv\n",
              "4       No Fence\n",
              "          ...   \n",
              "1163       MnPrv\n",
              "1164       MnPrv\n",
              "1165    No Fence\n",
              "1166       MnPrv\n",
              "1167    No Fence\n",
              "Name: Fence, Length: 1168, dtype: object"
            ]
          },
          "metadata": {},
          "execution_count": 29
        }
      ],
      "source": [
        "price[\"Fence\"]"
      ]
    },
    {
      "cell_type": "code",
      "execution_count": 31,
      "id": "0ac2bb5f",
      "metadata": {
        "id": "0ac2bb5f"
      },
      "outputs": [],
      "source": [
        "price[\"MiscFeature\"].fillna(\"No Misc\", inplace = True)"
      ]
    },
    {
      "cell_type": "code",
      "execution_count": 32,
      "id": "2a6e632e",
      "metadata": {
        "id": "2a6e632e",
        "outputId": "10be0d16-41cd-49f0-8850-68d0dfc881c2",
        "colab": {
          "base_uri": "https://localhost:8080/"
        }
      },
      "outputs": [
        {
          "output_type": "execute_result",
          "data": {
            "text/plain": [
              "0       No Misc\n",
              "1       No Misc\n",
              "2       No Misc\n",
              "3       No Misc\n",
              "4       No Misc\n",
              "         ...   \n",
              "1163    No Misc\n",
              "1164    No Misc\n",
              "1165    No Misc\n",
              "1166    No Misc\n",
              "1167    No Misc\n",
              "Name: MiscFeature, Length: 1168, dtype: object"
            ]
          },
          "metadata": {},
          "execution_count": 32
        }
      ],
      "source": [
        "price[\"MiscFeature\"]"
      ]
    },
    {
      "cell_type": "code",
      "execution_count": 33,
      "id": "88056e5f",
      "metadata": {
        "id": "88056e5f",
        "outputId": "fe20d348-6da0-42f7-f57e-aef12d8cab9a",
        "colab": {
          "base_uri": "https://localhost:8080/"
        }
      },
      "outputs": [
        {
          "output_type": "execute_result",
          "data": {
            "text/plain": [
              "214"
            ]
          },
          "metadata": {},
          "execution_count": 33
        }
      ],
      "source": [
        "price[\"LotFrontage\"].isnull().sum()"
      ]
    },
    {
      "cell_type": "code",
      "execution_count": 34,
      "id": "1c606325",
      "metadata": {
        "id": "1c606325",
        "outputId": "caef71f7-1b5e-445c-8011-ca715b093406",
        "colab": {
          "base_uri": "https://localhost:8080/"
        }
      },
      "outputs": [
        {
          "output_type": "execute_result",
          "data": {
            "text/plain": [
              "70.98846960167715"
            ]
          },
          "metadata": {},
          "execution_count": 34
        }
      ],
      "source": [
        "price[\"LotFrontage\"].mean()"
      ]
    },
    {
      "cell_type": "code",
      "execution_count": 35,
      "id": "a23c1642",
      "metadata": {
        "id": "a23c1642"
      },
      "outputs": [],
      "source": [
        "price[\"LotFrontage\"].fillna(price[\"LotFrontage\"].mean(), inplace = True)"
      ]
    },
    {
      "cell_type": "code",
      "execution_count": 36,
      "id": "8d267d1a",
      "metadata": {
        "id": "8d267d1a",
        "outputId": "aeb0fcf7-fbc7-4763-84b9-88efbc06e841",
        "colab": {
          "base_uri": "https://localhost:8080/"
        }
      },
      "outputs": [
        {
          "output_type": "execute_result",
          "data": {
            "text/plain": [
              "0"
            ]
          },
          "metadata": {},
          "execution_count": 36
        }
      ],
      "source": [
        "price[\"LotFrontage\"].isnull().sum()"
      ]
    },
    {
      "cell_type": "code",
      "execution_count": 37,
      "id": "5350553b",
      "metadata": {
        "id": "5350553b"
      },
      "outputs": [],
      "source": [
        "price[\"GarageType\"].fillna(\"No Garage\", inplace = True)\n",
        "price[\"GarageYrBlt\"].fillna(\"No Garage\", inplace = True)\n",
        "price[\"GarageFinish\"].fillna(\"No Garage\", inplace = True)\n",
        "price[\"GarageQual\"].fillna(\"No Garage\", inplace = True)\n",
        "price[\"GarageCond\"].fillna(\"No Garage\", inplace = True)"
      ]
    },
    {
      "cell_type": "code",
      "execution_count": 38,
      "id": "64c87348",
      "metadata": {
        "scrolled": true,
        "id": "64c87348",
        "outputId": "8d8164ef-04d0-4016-9154-fae1a951d9f0",
        "colab": {
          "base_uri": "https://localhost:8080/"
        }
      },
      "outputs": [
        {
          "output_type": "stream",
          "name": "stdout",
          "text": [
            "Id :  0\n",
            "MSSubClass :  0\n",
            "MSZoning :  0\n",
            "LotFrontage :  0\n",
            "LotArea :  0\n",
            "Street :  0\n",
            "Alley :  0\n",
            "LotShape :  0\n",
            "LandContour :  0\n",
            "Utilities :  0\n",
            "LotConfig :  0\n",
            "LandSlope :  0\n",
            "Neighborhood :  0\n",
            "Condition1 :  0\n",
            "Condition2 :  0\n",
            "BldgType :  0\n",
            "HouseStyle :  0\n",
            "OverallQual :  0\n",
            "OverallCond :  0\n",
            "YearBuilt :  0\n",
            "YearRemodAdd :  0\n",
            "RoofStyle :  0\n",
            "RoofMatl :  0\n",
            "Exterior1st :  0\n",
            "Exterior2nd :  0\n",
            "MasVnrType :  7\n",
            "MasVnrArea :  7\n",
            "ExterQual :  0\n",
            "ExterCond :  0\n",
            "Foundation :  0\n",
            "BsmtQual :  30\n",
            "BsmtCond :  30\n",
            "BsmtExposure :  31\n",
            "BsmtFinType1 :  30\n",
            "BsmtFinSF1 :  0\n",
            "BsmtFinType2 :  31\n",
            "BsmtFinSF2 :  0\n",
            "BsmtUnfSF :  0\n",
            "TotalBsmtSF :  0\n",
            "Heating :  0\n",
            "HeatingQC :  0\n",
            "CentralAir :  0\n",
            "Electrical :  0\n",
            "1stFlrSF :  0\n",
            "2ndFlrSF :  0\n",
            "LowQualFinSF :  0\n",
            "GrLivArea :  0\n",
            "BsmtFullBath :  0\n",
            "BsmtHalfBath :  0\n",
            "FullBath :  0\n",
            "HalfBath :  0\n",
            "BedroomAbvGr :  0\n",
            "KitchenAbvGr :  0\n",
            "KitchenQual :  0\n",
            "TotRmsAbvGrd :  0\n",
            "Functional :  0\n",
            "Fireplaces :  0\n",
            "FireplaceQu :  0\n",
            "GarageType :  0\n",
            "GarageYrBlt :  0\n",
            "GarageFinish :  0\n",
            "GarageCars :  0\n",
            "GarageArea :  0\n",
            "GarageQual :  0\n",
            "GarageCond :  0\n",
            "PavedDrive :  0\n",
            "WoodDeckSF :  0\n",
            "OpenPorchSF :  0\n",
            "EnclosedPorch :  0\n",
            "3SsnPorch :  0\n",
            "ScreenPorch :  0\n",
            "PoolArea :  0\n",
            "PoolQC :  0\n",
            "Fence :  0\n",
            "MiscFeature :  0\n",
            "MiscVal :  0\n",
            "MoSold :  0\n",
            "YrSold :  0\n",
            "SaleType :  0\n",
            "SaleCondition :  0\n",
            "SalePrice :  0\n"
          ]
        }
      ],
      "source": [
        "for i in price.columns:\n",
        "    ##if(data[i].unique()=='nan'):\n",
        "    print(i,\": \",price[i].isnull().sum())"
      ]
    },
    {
      "cell_type": "code",
      "execution_count": 39,
      "id": "d4858c20",
      "metadata": {
        "id": "d4858c20"
      },
      "outputs": [],
      "source": [
        "MasVnrType :  7\n",
        "MasVnrArea :  7\n",
        "BsmtQual :  30\n",
        "BsmtCond :  30\n",
        "BsmtExposure :  31\n",
        "BsmtFinType1 :  30\n",
        "BsmtFinType2 :  31"
      ]
    },
    {
      "cell_type": "code",
      "execution_count": 40,
      "id": "87cee85b",
      "metadata": {
        "id": "87cee85b",
        "outputId": "f20c0d4d-a5eb-49d8-e178-45aefa7eda32",
        "colab": {
          "base_uri": "https://localhost:8080/"
        }
      },
      "outputs": [
        {
          "output_type": "execute_result",
          "data": {
            "text/plain": [
              "0    None\n",
              "dtype: object"
            ]
          },
          "metadata": {},
          "execution_count": 40
        }
      ],
      "source": [
        "price[\"MasVnrType\"].mode()"
      ]
    },
    {
      "cell_type": "code",
      "execution_count": 41,
      "id": "4e493b71",
      "metadata": {
        "id": "4e493b71",
        "outputId": "1d688c24-d2ae-465c-8b25-bc7bee2b06cc",
        "colab": {
          "base_uri": "https://localhost:8080/"
        }
      },
      "outputs": [
        {
          "output_type": "execute_result",
          "data": {
            "text/plain": [
              "0    TA\n",
              "dtype: object"
            ]
          },
          "metadata": {},
          "execution_count": 41
        }
      ],
      "source": [
        "price[\"BsmtQual\"].mode()"
      ]
    },
    {
      "cell_type": "code",
      "execution_count": 42,
      "id": "cdf7e64c",
      "metadata": {
        "id": "cdf7e64c",
        "outputId": "7ee46c4b-c857-452b-ba28-6df2a4981533",
        "colab": {
          "base_uri": "https://localhost:8080/"
        }
      },
      "outputs": [
        {
          "output_type": "execute_result",
          "data": {
            "text/plain": [
              "0    TA\n",
              "dtype: object"
            ]
          },
          "metadata": {},
          "execution_count": 42
        }
      ],
      "source": [
        "price[\"BsmtCond\"].mode()"
      ]
    },
    {
      "cell_type": "code",
      "execution_count": 43,
      "id": "b31de44a",
      "metadata": {
        "id": "b31de44a",
        "outputId": "e342a9cb-7594-44b0-c47a-016f41d3e1d3",
        "colab": {
          "base_uri": "https://localhost:8080/"
        }
      },
      "outputs": [
        {
          "output_type": "execute_result",
          "data": {
            "text/plain": [
              "0    No\n",
              "dtype: object"
            ]
          },
          "metadata": {},
          "execution_count": 43
        }
      ],
      "source": [
        "price[\"BsmtExposure\"].mode()"
      ]
    },
    {
      "cell_type": "code",
      "execution_count": 44,
      "id": "4c692a9c",
      "metadata": {
        "id": "4c692a9c",
        "outputId": "90693398-5355-4c0b-d3bd-c831331c9d7b",
        "colab": {
          "base_uri": "https://localhost:8080/"
        }
      },
      "outputs": [
        {
          "output_type": "execute_result",
          "data": {
            "text/plain": [
              "0    Unf\n",
              "dtype: object"
            ]
          },
          "metadata": {},
          "execution_count": 44
        }
      ],
      "source": [
        "price[\"BsmtFinType2\"].mode()"
      ]
    },
    {
      "cell_type": "code",
      "execution_count": null,
      "id": "cc61bc34",
      "metadata": {
        "scrolled": true,
        "id": "cc61bc34"
      },
      "outputs": [],
      "source": [
        "#data['BsmtFinType1'].mean()"
      ]
    },
    {
      "cell_type": "code",
      "execution_count": 45,
      "id": "e0dbef62",
      "metadata": {
        "id": "e0dbef62"
      },
      "outputs": [],
      "source": [
        "from sklearn.impute import SimpleImputer\n",
        "imputer = SimpleImputer(missing_values=np.nan, strategy='mean')"
      ]
    },
    {
      "cell_type": "code",
      "execution_count": 46,
      "id": "872702ab",
      "metadata": {
        "id": "872702ab"
      },
      "outputs": [],
      "source": [
        "#data[\"MasVnrType\"].fillna(data[\"MasVnrType\"].mode(), inplace = True)\n",
        "price[\"MasVnrArea\"].fillna(0, inplace = True)\n",
        "#data[\"BsmtQual\"].fillna(data[\"BsmtQual\"].mode(), inplace = True)\n",
        "#data[\"BsmtCond\"].fillna(data[\"BsmtCond\"].mode(), inplace = True)\n",
        "#data[\"BsmtExposure\"].fillna(data[\"BsmtExposure\"].mode(), inplace = True)\n",
        "#data[\"BsmtFinType1\"].fillna(data[\"BsmtFinType1\"].mode(), inplace = True)\n",
        "price[\"BsmtFinType2\"].fillna(price[\"BsmtFinType2\"].mode(), inplace = True)"
      ]
    },
    {
      "cell_type": "code",
      "execution_count": 47,
      "id": "3c318f70",
      "metadata": {
        "id": "3c318f70"
      },
      "outputs": [],
      "source": [
        "price[\"BsmtFinType1\"].fillna(price[\"BsmtFinType1\"].mode()[0], inplace = True)\n",
        "price[\"BsmtExposure\"].fillna(price[\"BsmtExposure\"].mode()[0], inplace = True)"
      ]
    },
    {
      "cell_type": "code",
      "execution_count": 48,
      "id": "366c3680",
      "metadata": {
        "id": "366c3680"
      },
      "outputs": [],
      "source": [
        "price[\"MasVnrType\"].fillna(price[\"MasVnrType\"].mode()[0], inplace = True)"
      ]
    },
    {
      "cell_type": "code",
      "execution_count": 49,
      "id": "8486c92c",
      "metadata": {
        "id": "8486c92c"
      },
      "outputs": [],
      "source": [
        "price[\"BsmtQual\"].fillna(price[\"BsmtQual\"].mode()[0], inplace = True)\n",
        "price[\"BsmtCond\"].fillna(price[\"BsmtCond\"].mode()[0], inplace = True)"
      ]
    },
    {
      "cell_type": "code",
      "execution_count": 50,
      "id": "f8eb8adb",
      "metadata": {
        "id": "f8eb8adb",
        "outputId": "fd172136-7ac5-446e-9bdf-79badf6abe3e",
        "colab": {
          "base_uri": "https://localhost:8080/"
        }
      },
      "outputs": [
        {
          "output_type": "stream",
          "name": "stdout",
          "text": [
            "Id :  0\n",
            "MSSubClass :  0\n",
            "MSZoning :  0\n",
            "LotFrontage :  0\n",
            "LotArea :  0\n",
            "Street :  0\n",
            "Alley :  0\n",
            "LotShape :  0\n",
            "LandContour :  0\n",
            "Utilities :  0\n",
            "LotConfig :  0\n",
            "LandSlope :  0\n",
            "Neighborhood :  0\n",
            "Condition1 :  0\n",
            "Condition2 :  0\n",
            "BldgType :  0\n",
            "HouseStyle :  0\n",
            "OverallQual :  0\n",
            "OverallCond :  0\n",
            "YearBuilt :  0\n",
            "YearRemodAdd :  0\n",
            "RoofStyle :  0\n",
            "RoofMatl :  0\n",
            "Exterior1st :  0\n",
            "Exterior2nd :  0\n",
            "MasVnrType :  0\n",
            "MasVnrArea :  0\n",
            "ExterQual :  0\n",
            "ExterCond :  0\n",
            "Foundation :  0\n",
            "BsmtQual :  0\n",
            "BsmtCond :  0\n",
            "BsmtExposure :  0\n",
            "BsmtFinType1 :  0\n",
            "BsmtFinSF1 :  0\n",
            "BsmtFinType2 :  31\n",
            "BsmtFinSF2 :  0\n",
            "BsmtUnfSF :  0\n",
            "TotalBsmtSF :  0\n",
            "Heating :  0\n",
            "HeatingQC :  0\n",
            "CentralAir :  0\n",
            "Electrical :  0\n",
            "1stFlrSF :  0\n",
            "2ndFlrSF :  0\n",
            "LowQualFinSF :  0\n",
            "GrLivArea :  0\n",
            "BsmtFullBath :  0\n",
            "BsmtHalfBath :  0\n",
            "FullBath :  0\n",
            "HalfBath :  0\n",
            "BedroomAbvGr :  0\n",
            "KitchenAbvGr :  0\n",
            "KitchenQual :  0\n",
            "TotRmsAbvGrd :  0\n",
            "Functional :  0\n",
            "Fireplaces :  0\n",
            "FireplaceQu :  0\n",
            "GarageType :  0\n",
            "GarageYrBlt :  0\n",
            "GarageFinish :  0\n",
            "GarageCars :  0\n",
            "GarageArea :  0\n",
            "GarageQual :  0\n",
            "GarageCond :  0\n",
            "PavedDrive :  0\n",
            "WoodDeckSF :  0\n",
            "OpenPorchSF :  0\n",
            "EnclosedPorch :  0\n",
            "3SsnPorch :  0\n",
            "ScreenPorch :  0\n",
            "PoolArea :  0\n",
            "PoolQC :  0\n",
            "Fence :  0\n",
            "MiscFeature :  0\n",
            "MiscVal :  0\n",
            "MoSold :  0\n",
            "YrSold :  0\n",
            "SaleType :  0\n",
            "SaleCondition :  0\n",
            "SalePrice :  0\n"
          ]
        }
      ],
      "source": [
        "for i in price.columns:\n",
        "    ##if(data[i].unique()=='nan'):\n",
        "    print(i,\": \",price[i].isnull().sum())"
      ]
    },
    {
      "cell_type": "code",
      "execution_count": 51,
      "id": "32b8ef13",
      "metadata": {
        "id": "32b8ef13"
      },
      "outputs": [],
      "source": [
        "pd.set_option('display.max_columns',None)"
      ]
    },
    {
      "cell_type": "code",
      "execution_count": 52,
      "id": "f43dc8c5",
      "metadata": {
        "id": "f43dc8c5",
        "outputId": "774155ea-aa79-4ba0-fc71-c3a19e401ba8",
        "colab": {
          "base_uri": "https://localhost:8080/"
        }
      },
      "outputs": [
        {
          "output_type": "execute_result",
          "data": {
            "text/plain": [
              "(1168, 81)"
            ]
          },
          "metadata": {},
          "execution_count": 52
        }
      ],
      "source": [
        "price.shape"
      ]
    },
    {
      "cell_type": "code",
      "execution_count": 53,
      "id": "3b290548",
      "metadata": {
        "id": "3b290548",
        "outputId": "f7d049e6-f5d7-4e6a-8b88-35c18d2ecf75",
        "colab": {
          "base_uri": "https://localhost:8080/"
        }
      },
      "outputs": [
        {
          "output_type": "execute_result",
          "data": {
            "text/plain": [
              "Id               0\n",
              "MSSubClass       0\n",
              "MSZoning         0\n",
              "LotFrontage      0\n",
              "LotArea          0\n",
              "                ..\n",
              "MoSold           0\n",
              "YrSold           0\n",
              "SaleType         0\n",
              "SaleCondition    0\n",
              "SalePrice        0\n",
              "Length: 81, dtype: int64"
            ]
          },
          "metadata": {},
          "execution_count": 53
        }
      ],
      "source": [
        "price.isnull().sum()"
      ]
    },
    {
      "cell_type": "markdown",
      "id": "fef94c8c",
      "metadata": {
        "id": "fef94c8c"
      },
      "source": [
        "To describe statistic details on numerical data"
      ]
    },
    {
      "cell_type": "code",
      "execution_count": 54,
      "id": "25f5e682",
      "metadata": {
        "scrolled": true,
        "id": "25f5e682",
        "outputId": "8ba236d2-c01c-4f60-ec9b-fabcd2ab84af",
        "colab": {
          "base_uri": "https://localhost:8080/",
          "height": 364
        }
      },
      "outputs": [
        {
          "output_type": "execute_result",
          "data": {
            "text/plain": [
              "                Id   MSSubClass  LotFrontage        LotArea  OverallQual  \\\n",
              "count  1168.000000  1168.000000  1168.000000    1168.000000  1168.000000   \n",
              "mean    724.136130    56.767979    70.988470   10484.749144     6.104452   \n",
              "std     416.159877    41.940650    22.437056    8957.442311     1.390153   \n",
              "min       1.000000    20.000000    21.000000    1300.000000     1.000000   \n",
              "25%     360.500000    20.000000    60.000000    7621.500000     5.000000   \n",
              "50%     714.500000    50.000000    70.988470    9522.500000     6.000000   \n",
              "75%    1079.500000    70.000000    79.250000   11515.500000     7.000000   \n",
              "max    1460.000000   190.000000   313.000000  164660.000000    10.000000   \n",
              "\n",
              "       OverallCond    YearBuilt  YearRemodAdd   MasVnrArea   BsmtFinSF1  \\\n",
              "count  1168.000000  1168.000000   1168.000000  1168.000000  1168.000000   \n",
              "mean      5.595890  1970.930651   1984.758562   101.696918   444.726027   \n",
              "std       1.124343    30.145255     20.785185   182.218483   462.664785   \n",
              "min       1.000000  1875.000000   1950.000000     0.000000     0.000000   \n",
              "25%       5.000000  1954.000000   1966.000000     0.000000     0.000000   \n",
              "50%       5.000000  1972.000000   1993.000000     0.000000   385.500000   \n",
              "75%       6.000000  2000.000000   2004.000000   160.000000   714.500000   \n",
              "max       9.000000  2010.000000   2010.000000  1600.000000  5644.000000   \n",
              "\n",
              "        BsmtFinSF2    BsmtUnfSF  TotalBsmtSF     1stFlrSF     2ndFlrSF  \\\n",
              "count  1168.000000  1168.000000  1168.000000  1168.000000  1168.000000   \n",
              "mean     46.647260   569.721747  1061.095034  1169.860445   348.826199   \n",
              "std     163.520016   449.375525   442.272249   391.161983   439.696370   \n",
              "min       0.000000     0.000000     0.000000   334.000000     0.000000   \n",
              "25%       0.000000   216.000000   799.000000   892.000000     0.000000   \n",
              "50%       0.000000   474.000000  1005.500000  1096.500000     0.000000   \n",
              "75%       0.000000   816.000000  1291.500000  1392.000000   729.000000   \n",
              "max    1474.000000  2336.000000  6110.000000  4692.000000  2065.000000   \n",
              "\n",
              "       LowQualFinSF    GrLivArea  BsmtFullBath  BsmtHalfBath     FullBath  \\\n",
              "count   1168.000000  1168.000000   1168.000000   1168.000000  1168.000000   \n",
              "mean       6.380137  1525.066781      0.425514      0.055651     1.562500   \n",
              "std       50.892844   528.042957      0.521615      0.236699     0.551882   \n",
              "min        0.000000   334.000000      0.000000      0.000000     0.000000   \n",
              "25%        0.000000  1143.250000      0.000000      0.000000     1.000000   \n",
              "50%        0.000000  1468.500000      0.000000      0.000000     2.000000   \n",
              "75%        0.000000  1795.000000      1.000000      0.000000     2.000000   \n",
              "max      572.000000  5642.000000      3.000000      2.000000     3.000000   \n",
              "\n",
              "          HalfBath  BedroomAbvGr  KitchenAbvGr  TotRmsAbvGrd   Fireplaces  \\\n",
              "count  1168.000000   1168.000000   1168.000000   1168.000000  1168.000000   \n",
              "mean      0.388699      2.884418      1.045377      6.542808     0.617295   \n",
              "std       0.504929      0.817229      0.216292      1.598484     0.650575   \n",
              "min       0.000000      0.000000      0.000000      2.000000     0.000000   \n",
              "25%       0.000000      2.000000      1.000000      5.000000     0.000000   \n",
              "50%       0.000000      3.000000      1.000000      6.000000     1.000000   \n",
              "75%       1.000000      3.000000      1.000000      7.000000     1.000000   \n",
              "max       2.000000      8.000000      3.000000     14.000000     3.000000   \n",
              "\n",
              "        GarageCars   GarageArea   WoodDeckSF  OpenPorchSF  EnclosedPorch  \\\n",
              "count  1168.000000  1168.000000  1168.000000  1168.000000    1168.000000   \n",
              "mean      1.776541   476.860445    96.206336    46.559932      23.015411   \n",
              "std       0.745554   214.466769   126.158988    66.381023      63.191089   \n",
              "min       0.000000     0.000000     0.000000     0.000000       0.000000   \n",
              "25%       1.000000   338.000000     0.000000     0.000000       0.000000   \n",
              "50%       2.000000   480.000000     0.000000    24.000000       0.000000   \n",
              "75%       2.000000   576.000000   171.000000    70.000000       0.000000   \n",
              "max       4.000000  1418.000000   857.000000   547.000000     552.000000   \n",
              "\n",
              "         3SsnPorch  ScreenPorch     PoolArea       MiscVal       MoSold  \\\n",
              "count  1168.000000  1168.000000  1168.000000   1168.000000  1168.000000   \n",
              "mean      3.639555    15.051370     3.448630     47.315068     6.344178   \n",
              "std      29.088867    55.080816    44.896939    543.264432     2.686352   \n",
              "min       0.000000     0.000000     0.000000      0.000000     1.000000   \n",
              "25%       0.000000     0.000000     0.000000      0.000000     5.000000   \n",
              "50%       0.000000     0.000000     0.000000      0.000000     6.000000   \n",
              "75%       0.000000     0.000000     0.000000      0.000000     8.000000   \n",
              "max     508.000000   480.000000   738.000000  15500.000000    12.000000   \n",
              "\n",
              "            YrSold      SalePrice  \n",
              "count  1168.000000    1168.000000  \n",
              "mean   2007.804795  181477.005993  \n",
              "std       1.329738   79105.586863  \n",
              "min    2006.000000   34900.000000  \n",
              "25%    2007.000000  130375.000000  \n",
              "50%    2008.000000  163995.000000  \n",
              "75%    2009.000000  215000.000000  \n",
              "max    2010.000000  755000.000000  "
            ],
            "text/html": [
              "\n",
              "  <div id=\"df-4eebab0b-5e6a-4497-9ef3-280da327e057\">\n",
              "    <div class=\"colab-df-container\">\n",
              "      <div>\n",
              "<style scoped>\n",
              "    .dataframe tbody tr th:only-of-type {\n",
              "        vertical-align: middle;\n",
              "    }\n",
              "\n",
              "    .dataframe tbody tr th {\n",
              "        vertical-align: top;\n",
              "    }\n",
              "\n",
              "    .dataframe thead th {\n",
              "        text-align: right;\n",
              "    }\n",
              "</style>\n",
              "<table border=\"1\" class=\"dataframe\">\n",
              "  <thead>\n",
              "    <tr style=\"text-align: right;\">\n",
              "      <th></th>\n",
              "      <th>Id</th>\n",
              "      <th>MSSubClass</th>\n",
              "      <th>LotFrontage</th>\n",
              "      <th>LotArea</th>\n",
              "      <th>OverallQual</th>\n",
              "      <th>OverallCond</th>\n",
              "      <th>YearBuilt</th>\n",
              "      <th>YearRemodAdd</th>\n",
              "      <th>MasVnrArea</th>\n",
              "      <th>BsmtFinSF1</th>\n",
              "      <th>BsmtFinSF2</th>\n",
              "      <th>BsmtUnfSF</th>\n",
              "      <th>TotalBsmtSF</th>\n",
              "      <th>1stFlrSF</th>\n",
              "      <th>2ndFlrSF</th>\n",
              "      <th>LowQualFinSF</th>\n",
              "      <th>GrLivArea</th>\n",
              "      <th>BsmtFullBath</th>\n",
              "      <th>BsmtHalfBath</th>\n",
              "      <th>FullBath</th>\n",
              "      <th>HalfBath</th>\n",
              "      <th>BedroomAbvGr</th>\n",
              "      <th>KitchenAbvGr</th>\n",
              "      <th>TotRmsAbvGrd</th>\n",
              "      <th>Fireplaces</th>\n",
              "      <th>GarageCars</th>\n",
              "      <th>GarageArea</th>\n",
              "      <th>WoodDeckSF</th>\n",
              "      <th>OpenPorchSF</th>\n",
              "      <th>EnclosedPorch</th>\n",
              "      <th>3SsnPorch</th>\n",
              "      <th>ScreenPorch</th>\n",
              "      <th>PoolArea</th>\n",
              "      <th>MiscVal</th>\n",
              "      <th>MoSold</th>\n",
              "      <th>YrSold</th>\n",
              "      <th>SalePrice</th>\n",
              "    </tr>\n",
              "  </thead>\n",
              "  <tbody>\n",
              "    <tr>\n",
              "      <th>count</th>\n",
              "      <td>1168.000000</td>\n",
              "      <td>1168.000000</td>\n",
              "      <td>1168.000000</td>\n",
              "      <td>1168.000000</td>\n",
              "      <td>1168.000000</td>\n",
              "      <td>1168.000000</td>\n",
              "      <td>1168.000000</td>\n",
              "      <td>1168.000000</td>\n",
              "      <td>1168.000000</td>\n",
              "      <td>1168.000000</td>\n",
              "      <td>1168.000000</td>\n",
              "      <td>1168.000000</td>\n",
              "      <td>1168.000000</td>\n",
              "      <td>1168.000000</td>\n",
              "      <td>1168.000000</td>\n",
              "      <td>1168.000000</td>\n",
              "      <td>1168.000000</td>\n",
              "      <td>1168.000000</td>\n",
              "      <td>1168.000000</td>\n",
              "      <td>1168.000000</td>\n",
              "      <td>1168.000000</td>\n",
              "      <td>1168.000000</td>\n",
              "      <td>1168.000000</td>\n",
              "      <td>1168.000000</td>\n",
              "      <td>1168.000000</td>\n",
              "      <td>1168.000000</td>\n",
              "      <td>1168.000000</td>\n",
              "      <td>1168.000000</td>\n",
              "      <td>1168.000000</td>\n",
              "      <td>1168.000000</td>\n",
              "      <td>1168.000000</td>\n",
              "      <td>1168.000000</td>\n",
              "      <td>1168.000000</td>\n",
              "      <td>1168.000000</td>\n",
              "      <td>1168.000000</td>\n",
              "      <td>1168.000000</td>\n",
              "      <td>1168.000000</td>\n",
              "    </tr>\n",
              "    <tr>\n",
              "      <th>mean</th>\n",
              "      <td>724.136130</td>\n",
              "      <td>56.767979</td>\n",
              "      <td>70.988470</td>\n",
              "      <td>10484.749144</td>\n",
              "      <td>6.104452</td>\n",
              "      <td>5.595890</td>\n",
              "      <td>1970.930651</td>\n",
              "      <td>1984.758562</td>\n",
              "      <td>101.696918</td>\n",
              "      <td>444.726027</td>\n",
              "      <td>46.647260</td>\n",
              "      <td>569.721747</td>\n",
              "      <td>1061.095034</td>\n",
              "      <td>1169.860445</td>\n",
              "      <td>348.826199</td>\n",
              "      <td>6.380137</td>\n",
              "      <td>1525.066781</td>\n",
              "      <td>0.425514</td>\n",
              "      <td>0.055651</td>\n",
              "      <td>1.562500</td>\n",
              "      <td>0.388699</td>\n",
              "      <td>2.884418</td>\n",
              "      <td>1.045377</td>\n",
              "      <td>6.542808</td>\n",
              "      <td>0.617295</td>\n",
              "      <td>1.776541</td>\n",
              "      <td>476.860445</td>\n",
              "      <td>96.206336</td>\n",
              "      <td>46.559932</td>\n",
              "      <td>23.015411</td>\n",
              "      <td>3.639555</td>\n",
              "      <td>15.051370</td>\n",
              "      <td>3.448630</td>\n",
              "      <td>47.315068</td>\n",
              "      <td>6.344178</td>\n",
              "      <td>2007.804795</td>\n",
              "      <td>181477.005993</td>\n",
              "    </tr>\n",
              "    <tr>\n",
              "      <th>std</th>\n",
              "      <td>416.159877</td>\n",
              "      <td>41.940650</td>\n",
              "      <td>22.437056</td>\n",
              "      <td>8957.442311</td>\n",
              "      <td>1.390153</td>\n",
              "      <td>1.124343</td>\n",
              "      <td>30.145255</td>\n",
              "      <td>20.785185</td>\n",
              "      <td>182.218483</td>\n",
              "      <td>462.664785</td>\n",
              "      <td>163.520016</td>\n",
              "      <td>449.375525</td>\n",
              "      <td>442.272249</td>\n",
              "      <td>391.161983</td>\n",
              "      <td>439.696370</td>\n",
              "      <td>50.892844</td>\n",
              "      <td>528.042957</td>\n",
              "      <td>0.521615</td>\n",
              "      <td>0.236699</td>\n",
              "      <td>0.551882</td>\n",
              "      <td>0.504929</td>\n",
              "      <td>0.817229</td>\n",
              "      <td>0.216292</td>\n",
              "      <td>1.598484</td>\n",
              "      <td>0.650575</td>\n",
              "      <td>0.745554</td>\n",
              "      <td>214.466769</td>\n",
              "      <td>126.158988</td>\n",
              "      <td>66.381023</td>\n",
              "      <td>63.191089</td>\n",
              "      <td>29.088867</td>\n",
              "      <td>55.080816</td>\n",
              "      <td>44.896939</td>\n",
              "      <td>543.264432</td>\n",
              "      <td>2.686352</td>\n",
              "      <td>1.329738</td>\n",
              "      <td>79105.586863</td>\n",
              "    </tr>\n",
              "    <tr>\n",
              "      <th>min</th>\n",
              "      <td>1.000000</td>\n",
              "      <td>20.000000</td>\n",
              "      <td>21.000000</td>\n",
              "      <td>1300.000000</td>\n",
              "      <td>1.000000</td>\n",
              "      <td>1.000000</td>\n",
              "      <td>1875.000000</td>\n",
              "      <td>1950.000000</td>\n",
              "      <td>0.000000</td>\n",
              "      <td>0.000000</td>\n",
              "      <td>0.000000</td>\n",
              "      <td>0.000000</td>\n",
              "      <td>0.000000</td>\n",
              "      <td>334.000000</td>\n",
              "      <td>0.000000</td>\n",
              "      <td>0.000000</td>\n",
              "      <td>334.000000</td>\n",
              "      <td>0.000000</td>\n",
              "      <td>0.000000</td>\n",
              "      <td>0.000000</td>\n",
              "      <td>0.000000</td>\n",
              "      <td>0.000000</td>\n",
              "      <td>0.000000</td>\n",
              "      <td>2.000000</td>\n",
              "      <td>0.000000</td>\n",
              "      <td>0.000000</td>\n",
              "      <td>0.000000</td>\n",
              "      <td>0.000000</td>\n",
              "      <td>0.000000</td>\n",
              "      <td>0.000000</td>\n",
              "      <td>0.000000</td>\n",
              "      <td>0.000000</td>\n",
              "      <td>0.000000</td>\n",
              "      <td>0.000000</td>\n",
              "      <td>1.000000</td>\n",
              "      <td>2006.000000</td>\n",
              "      <td>34900.000000</td>\n",
              "    </tr>\n",
              "    <tr>\n",
              "      <th>25%</th>\n",
              "      <td>360.500000</td>\n",
              "      <td>20.000000</td>\n",
              "      <td>60.000000</td>\n",
              "      <td>7621.500000</td>\n",
              "      <td>5.000000</td>\n",
              "      <td>5.000000</td>\n",
              "      <td>1954.000000</td>\n",
              "      <td>1966.000000</td>\n",
              "      <td>0.000000</td>\n",
              "      <td>0.000000</td>\n",
              "      <td>0.000000</td>\n",
              "      <td>216.000000</td>\n",
              "      <td>799.000000</td>\n",
              "      <td>892.000000</td>\n",
              "      <td>0.000000</td>\n",
              "      <td>0.000000</td>\n",
              "      <td>1143.250000</td>\n",
              "      <td>0.000000</td>\n",
              "      <td>0.000000</td>\n",
              "      <td>1.000000</td>\n",
              "      <td>0.000000</td>\n",
              "      <td>2.000000</td>\n",
              "      <td>1.000000</td>\n",
              "      <td>5.000000</td>\n",
              "      <td>0.000000</td>\n",
              "      <td>1.000000</td>\n",
              "      <td>338.000000</td>\n",
              "      <td>0.000000</td>\n",
              "      <td>0.000000</td>\n",
              "      <td>0.000000</td>\n",
              "      <td>0.000000</td>\n",
              "      <td>0.000000</td>\n",
              "      <td>0.000000</td>\n",
              "      <td>0.000000</td>\n",
              "      <td>5.000000</td>\n",
              "      <td>2007.000000</td>\n",
              "      <td>130375.000000</td>\n",
              "    </tr>\n",
              "    <tr>\n",
              "      <th>50%</th>\n",
              "      <td>714.500000</td>\n",
              "      <td>50.000000</td>\n",
              "      <td>70.988470</td>\n",
              "      <td>9522.500000</td>\n",
              "      <td>6.000000</td>\n",
              "      <td>5.000000</td>\n",
              "      <td>1972.000000</td>\n",
              "      <td>1993.000000</td>\n",
              "      <td>0.000000</td>\n",
              "      <td>385.500000</td>\n",
              "      <td>0.000000</td>\n",
              "      <td>474.000000</td>\n",
              "      <td>1005.500000</td>\n",
              "      <td>1096.500000</td>\n",
              "      <td>0.000000</td>\n",
              "      <td>0.000000</td>\n",
              "      <td>1468.500000</td>\n",
              "      <td>0.000000</td>\n",
              "      <td>0.000000</td>\n",
              "      <td>2.000000</td>\n",
              "      <td>0.000000</td>\n",
              "      <td>3.000000</td>\n",
              "      <td>1.000000</td>\n",
              "      <td>6.000000</td>\n",
              "      <td>1.000000</td>\n",
              "      <td>2.000000</td>\n",
              "      <td>480.000000</td>\n",
              "      <td>0.000000</td>\n",
              "      <td>24.000000</td>\n",
              "      <td>0.000000</td>\n",
              "      <td>0.000000</td>\n",
              "      <td>0.000000</td>\n",
              "      <td>0.000000</td>\n",
              "      <td>0.000000</td>\n",
              "      <td>6.000000</td>\n",
              "      <td>2008.000000</td>\n",
              "      <td>163995.000000</td>\n",
              "    </tr>\n",
              "    <tr>\n",
              "      <th>75%</th>\n",
              "      <td>1079.500000</td>\n",
              "      <td>70.000000</td>\n",
              "      <td>79.250000</td>\n",
              "      <td>11515.500000</td>\n",
              "      <td>7.000000</td>\n",
              "      <td>6.000000</td>\n",
              "      <td>2000.000000</td>\n",
              "      <td>2004.000000</td>\n",
              "      <td>160.000000</td>\n",
              "      <td>714.500000</td>\n",
              "      <td>0.000000</td>\n",
              "      <td>816.000000</td>\n",
              "      <td>1291.500000</td>\n",
              "      <td>1392.000000</td>\n",
              "      <td>729.000000</td>\n",
              "      <td>0.000000</td>\n",
              "      <td>1795.000000</td>\n",
              "      <td>1.000000</td>\n",
              "      <td>0.000000</td>\n",
              "      <td>2.000000</td>\n",
              "      <td>1.000000</td>\n",
              "      <td>3.000000</td>\n",
              "      <td>1.000000</td>\n",
              "      <td>7.000000</td>\n",
              "      <td>1.000000</td>\n",
              "      <td>2.000000</td>\n",
              "      <td>576.000000</td>\n",
              "      <td>171.000000</td>\n",
              "      <td>70.000000</td>\n",
              "      <td>0.000000</td>\n",
              "      <td>0.000000</td>\n",
              "      <td>0.000000</td>\n",
              "      <td>0.000000</td>\n",
              "      <td>0.000000</td>\n",
              "      <td>8.000000</td>\n",
              "      <td>2009.000000</td>\n",
              "      <td>215000.000000</td>\n",
              "    </tr>\n",
              "    <tr>\n",
              "      <th>max</th>\n",
              "      <td>1460.000000</td>\n",
              "      <td>190.000000</td>\n",
              "      <td>313.000000</td>\n",
              "      <td>164660.000000</td>\n",
              "      <td>10.000000</td>\n",
              "      <td>9.000000</td>\n",
              "      <td>2010.000000</td>\n",
              "      <td>2010.000000</td>\n",
              "      <td>1600.000000</td>\n",
              "      <td>5644.000000</td>\n",
              "      <td>1474.000000</td>\n",
              "      <td>2336.000000</td>\n",
              "      <td>6110.000000</td>\n",
              "      <td>4692.000000</td>\n",
              "      <td>2065.000000</td>\n",
              "      <td>572.000000</td>\n",
              "      <td>5642.000000</td>\n",
              "      <td>3.000000</td>\n",
              "      <td>2.000000</td>\n",
              "      <td>3.000000</td>\n",
              "      <td>2.000000</td>\n",
              "      <td>8.000000</td>\n",
              "      <td>3.000000</td>\n",
              "      <td>14.000000</td>\n",
              "      <td>3.000000</td>\n",
              "      <td>4.000000</td>\n",
              "      <td>1418.000000</td>\n",
              "      <td>857.000000</td>\n",
              "      <td>547.000000</td>\n",
              "      <td>552.000000</td>\n",
              "      <td>508.000000</td>\n",
              "      <td>480.000000</td>\n",
              "      <td>738.000000</td>\n",
              "      <td>15500.000000</td>\n",
              "      <td>12.000000</td>\n",
              "      <td>2010.000000</td>\n",
              "      <td>755000.000000</td>\n",
              "    </tr>\n",
              "  </tbody>\n",
              "</table>\n",
              "</div>\n",
              "      <button class=\"colab-df-convert\" onclick=\"convertToInteractive('df-4eebab0b-5e6a-4497-9ef3-280da327e057')\"\n",
              "              title=\"Convert this dataframe to an interactive table.\"\n",
              "              style=\"display:none;\">\n",
              "        \n",
              "  <svg xmlns=\"http://www.w3.org/2000/svg\" height=\"24px\"viewBox=\"0 0 24 24\"\n",
              "       width=\"24px\">\n",
              "    <path d=\"M0 0h24v24H0V0z\" fill=\"none\"/>\n",
              "    <path d=\"M18.56 5.44l.94 2.06.94-2.06 2.06-.94-2.06-.94-.94-2.06-.94 2.06-2.06.94zm-11 1L8.5 8.5l.94-2.06 2.06-.94-2.06-.94L8.5 2.5l-.94 2.06-2.06.94zm10 10l.94 2.06.94-2.06 2.06-.94-2.06-.94-.94-2.06-.94 2.06-2.06.94z\"/><path d=\"M17.41 7.96l-1.37-1.37c-.4-.4-.92-.59-1.43-.59-.52 0-1.04.2-1.43.59L10.3 9.45l-7.72 7.72c-.78.78-.78 2.05 0 2.83L4 21.41c.39.39.9.59 1.41.59.51 0 1.02-.2 1.41-.59l7.78-7.78 2.81-2.81c.8-.78.8-2.07 0-2.86zM5.41 20L4 18.59l7.72-7.72 1.47 1.35L5.41 20z\"/>\n",
              "  </svg>\n",
              "      </button>\n",
              "      \n",
              "  <style>\n",
              "    .colab-df-container {\n",
              "      display:flex;\n",
              "      flex-wrap:wrap;\n",
              "      gap: 12px;\n",
              "    }\n",
              "\n",
              "    .colab-df-convert {\n",
              "      background-color: #E8F0FE;\n",
              "      border: none;\n",
              "      border-radius: 50%;\n",
              "      cursor: pointer;\n",
              "      display: none;\n",
              "      fill: #1967D2;\n",
              "      height: 32px;\n",
              "      padding: 0 0 0 0;\n",
              "      width: 32px;\n",
              "    }\n",
              "\n",
              "    .colab-df-convert:hover {\n",
              "      background-color: #E2EBFA;\n",
              "      box-shadow: 0px 1px 2px rgba(60, 64, 67, 0.3), 0px 1px 3px 1px rgba(60, 64, 67, 0.15);\n",
              "      fill: #174EA6;\n",
              "    }\n",
              "\n",
              "    [theme=dark] .colab-df-convert {\n",
              "      background-color: #3B4455;\n",
              "      fill: #D2E3FC;\n",
              "    }\n",
              "\n",
              "    [theme=dark] .colab-df-convert:hover {\n",
              "      background-color: #434B5C;\n",
              "      box-shadow: 0px 1px 3px 1px rgba(0, 0, 0, 0.15);\n",
              "      filter: drop-shadow(0px 1px 2px rgba(0, 0, 0, 0.3));\n",
              "      fill: #FFFFFF;\n",
              "    }\n",
              "  </style>\n",
              "\n",
              "      <script>\n",
              "        const buttonEl =\n",
              "          document.querySelector('#df-4eebab0b-5e6a-4497-9ef3-280da327e057 button.colab-df-convert');\n",
              "        buttonEl.style.display =\n",
              "          google.colab.kernel.accessAllowed ? 'block' : 'none';\n",
              "\n",
              "        async function convertToInteractive(key) {\n",
              "          const element = document.querySelector('#df-4eebab0b-5e6a-4497-9ef3-280da327e057');\n",
              "          const dataTable =\n",
              "            await google.colab.kernel.invokeFunction('convertToInteractive',\n",
              "                                                     [key], {});\n",
              "          if (!dataTable) return;\n",
              "\n",
              "          const docLinkHtml = 'Like what you see? Visit the ' +\n",
              "            '<a target=\"_blank\" href=https://colab.research.google.com/notebooks/data_table.ipynb>data table notebook</a>'\n",
              "            + ' to learn more about interactive tables.';\n",
              "          element.innerHTML = '';\n",
              "          dataTable['output_type'] = 'display_data';\n",
              "          await google.colab.output.renderOutput(dataTable, element);\n",
              "          const docLink = document.createElement('div');\n",
              "          docLink.innerHTML = docLinkHtml;\n",
              "          element.appendChild(docLink);\n",
              "        }\n",
              "      </script>\n",
              "    </div>\n",
              "  </div>\n",
              "  "
            ]
          },
          "metadata": {},
          "execution_count": 54
        }
      ],
      "source": [
        "price.describe()"
      ]
    },
    {
      "cell_type": "markdown",
      "id": "921d6741",
      "metadata": {
        "id": "921d6741"
      },
      "source": [
        "Dropping non related columns"
      ]
    },
    {
      "cell_type": "code",
      "execution_count": 55,
      "id": "49a52420",
      "metadata": {
        "id": "49a52420"
      },
      "outputs": [],
      "source": [
        "price.drop(['Id'],axis=1,inplace=True)\n",
        "price.drop(['MSSubClass'],axis=1,inplace=True)\n",
        "price.drop(['MSZoning'],axis=1,inplace=True)\n",
        "price.drop(['LotFrontage'],axis=1,inplace=True)\n",
        "price.drop(['Alley'],axis=1,inplace=True)\n",
        "price.drop(['GarageCars'],axis=1,inplace=True)\n",
        "price.drop(['MiscFeature'],axis=1,inplace=True)\n",
        "price.drop(['MiscVal'],axis=1,inplace=True)"
      ]
    },
    {
      "cell_type": "markdown",
      "id": "cef7c51d",
      "metadata": {
        "id": "cef7c51d"
      },
      "source": [
        "Seggregating features"
      ]
    },
    {
      "cell_type": "code",
      "execution_count": 56,
      "id": "fa4ddb8c",
      "metadata": {
        "id": "fa4ddb8c"
      },
      "outputs": [],
      "source": [
        "numerical_feature=[feature for feature in price.columns if price[feature].dtypes!='O']\n",
        "descrete_feature=[feature for feature in numerical_feature if len(price[feature].unique())<25]\n",
        "cont_feature=[feature for feature in numerical_feature if feature not in descrete_feature]\n",
        "category_feature=[feature for feature in price.columns if feature not in numerical_feature]"
      ]
    },
    {
      "cell_type": "code",
      "execution_count": 57,
      "id": "b078dc84",
      "metadata": {
        "scrolled": true,
        "id": "b078dc84",
        "outputId": "d2140c70-2d79-4d4d-c301-1cef408650c5",
        "colab": {
          "base_uri": "https://localhost:8080/"
        }
      },
      "outputs": [
        {
          "output_type": "execute_result",
          "data": {
            "text/plain": [
              "['Street',\n",
              " 'LotShape',\n",
              " 'LandContour',\n",
              " 'Utilities',\n",
              " 'LotConfig',\n",
              " 'LandSlope',\n",
              " 'Neighborhood',\n",
              " 'Condition1',\n",
              " 'Condition2',\n",
              " 'BldgType',\n",
              " 'HouseStyle',\n",
              " 'RoofStyle',\n",
              " 'RoofMatl',\n",
              " 'Exterior1st',\n",
              " 'Exterior2nd',\n",
              " 'MasVnrType',\n",
              " 'ExterQual',\n",
              " 'ExterCond',\n",
              " 'Foundation',\n",
              " 'BsmtQual',\n",
              " 'BsmtCond',\n",
              " 'BsmtExposure',\n",
              " 'BsmtFinType1',\n",
              " 'BsmtFinType2',\n",
              " 'Heating',\n",
              " 'HeatingQC',\n",
              " 'CentralAir',\n",
              " 'Electrical',\n",
              " 'KitchenQual',\n",
              " 'Functional',\n",
              " 'FireplaceQu',\n",
              " 'GarageType',\n",
              " 'GarageYrBlt',\n",
              " 'GarageFinish',\n",
              " 'GarageQual',\n",
              " 'GarageCond',\n",
              " 'PavedDrive',\n",
              " 'PoolQC',\n",
              " 'Fence',\n",
              " 'SaleType',\n",
              " 'SaleCondition']"
            ]
          },
          "metadata": {},
          "execution_count": 57
        }
      ],
      "source": [
        "category_feature"
      ]
    },
    {
      "cell_type": "code",
      "execution_count": null,
      "id": "714514b6",
      "metadata": {
        "id": "714514b6",
        "outputId": "fcfd4519-fd4c-4b89-8458-cb7c95de3578"
      },
      "outputs": [
        {
          "data": {
            "text/plain": [
              "['LotArea',\n",
              " 'YearBuilt',\n",
              " 'YearRemodAdd',\n",
              " 'MasVnrArea',\n",
              " 'BsmtFinSF1',\n",
              " 'BsmtFinSF2',\n",
              " 'BsmtUnfSF',\n",
              " 'TotalBsmtSF',\n",
              " '1stFlrSF',\n",
              " '2ndFlrSF',\n",
              " 'GrLivArea',\n",
              " 'GarageArea',\n",
              " 'WoodDeckSF',\n",
              " 'OpenPorchSF',\n",
              " 'EnclosedPorch',\n",
              " 'ScreenPorch',\n",
              " 'SalePrice']"
            ]
          },
          "execution_count": 99,
          "metadata": {},
          "output_type": "execute_result"
        }
      ],
      "source": [
        "cont_feature"
      ]
    },
    {
      "cell_type": "code",
      "execution_count": 58,
      "id": "ef8140eb",
      "metadata": {
        "scrolled": true,
        "id": "ef8140eb",
        "outputId": "3aa42410-0c32-4c40-d0f5-220ce0c6cdae",
        "colab": {
          "base_uri": "https://localhost:8080/",
          "height": 1000
        }
      },
      "outputs": [
        {
          "output_type": "display_data",
          "data": {
            "text/plain": [
              "<Figure size 360x360 with 1 Axes>"
            ],
            "image/png": "[encoded data removed]"
          },
          "metadata": {
            "needs_background": "light"
          }
        },
        {
          "output_type": "display_data",
          "data": {
            "text/plain": [
              "<Figure size 1080x1080 with 0 Axes>"
            ]
          },
          "metadata": {}
        },
        {
          "output_type": "display_data",
          "data": {
            "text/plain": [
              "<Figure size 360x360 with 1 Axes>"
            ],
            "image/png": "[encoded data removed]"
          },
          "metadata": {
            "needs_background": "light"
          }
        },
        {
          "output_type": "display_data",
          "data": {
            "text/plain": [
              "<Figure size 1080x1080 with 0 Axes>"
            ]
          },
          "metadata": {}
        },
        {
          "output_type": "display_data",
          "data": {
            "text/plain": [
              "<Figure size 360x360 with 1 Axes>"
            ],
            "image/png": "[encoded data removed]"
          },
          "metadata": {
            "needs_background": "light"
          }
        },
        {
          "output_type": "display_data",
          "data": {
            "text/plain": [
              "<Figure size 1080x1080 with 0 Axes>"
            ]
          },
          "metadata": {}
        },
        {
          "output_type": "display_data",
          "data": {
            "text/plain": [
              "<Figure size 360x360 with 1 Axes>"
            ],
            "image/png": "[encoded data removed]"
          },
          "metadata": {
            "needs_background": "light"
          }
        },
        {
          "output_type": "display_data",
          "data": {
            "text/plain": [
              "<Figure size 1080x1080 with 0 Axes>"
            ]
          },
          "metadata": {}
        },
        {
          "output_type": "display_data",
          "data": {
            "text/plain": [
              "<Figure size 360x360 with 1 Axes>"
            ],
            "image/png": "[encoded data removed]"
          },
          "metadata": {
            "needs_background": "light"
          }
        },
        {
          "output_type": "display_data",
          "data": {
            "text/plain": [
              "<Figure size 1080x1080 with 0 Axes>"
            ]
          },
          "metadata": {}
        },
        {
          "output_type": "display_data",
          "data": {
            "text/plain": [
              "<Figure size 360x360 with 1 Axes>"
            ],
            "image/png": "[encoded data removed]"
          },
          "metadata": {
            "needs_background": "light"
          }
        },
        {
          "output_type": "display_data",
          "data": {
            "text/plain": [
              "<Figure size 1080x1080 with 0 Axes>"
            ]
          },
          "metadata": {}
        },
        {
          "output_type": "display_data",
          "data": {
            "text/plain": [
              "<Figure size 360x360 with 1 Axes>"
            ],
            "image/png": "[encoded data removed]"
          },
          "metadata": {
            "needs_background": "light"
          }
        },
        {
          "output_type": "display_data",
          "data": {
            "text/plain": [
              "<Figure size 1080x1080 with 0 Axes>"
            ]
          },
          "metadata": {}
        },
        {
          "output_type": "display_data",
          "data": {
            "text/plain": [
              "<Figure size 360x360 with 1 Axes>"
            ],
            "image/png": "[encoded data removed]"
          },
          "metadata": {
            "needs_background": "light"
          }
        },
        {
          "output_type": "display_data",
          "data": {
            "text/plain": [
              "<Figure size 1080x1080 with 0 Axes>"
            ]
          },
          "metadata": {}
        },
        {
          "output_type": "display_data",
          "data": {
            "text/plain": [
              "<Figure size 360x360 with 1 Axes>"
            ],
            "image/png": "[encoded data removed]"
          },
          "metadata": {
            "needs_background": "light"
          }
        },
        {
          "output_type": "display_data",
          "data": {
            "text/plain": [
              "<Figure size 1080x1080 with 0 Axes>"
            ]
          },
          "metadata": {}
        },
        {
          "output_type": "display_data",
          "data": {
            "text/plain": [
              "<Figure size 360x360 with 1 Axes>"
            ],
            "image/png": "[encoded data removed]"
          },
          "metadata": {
            "needs_background": "light"
          }
        },
        {
          "output_type": "display_data",
          "data": {
            "text/plain": [
              "<Figure size 1080x1080 with 0 Axes>"
            ]
          },
          "metadata": {}
        },
        {
          "output_type": "display_data",
          "data": {
            "text/plain": [
              "<Figure size 360x360 with 1 Axes>"
            ],
            "image/png": "[encoded data removed]"
          },
          "metadata": {
            "needs_background": "light"
          }
        },
        {
          "output_type": "display_data",
          "data": {
            "text/plain": [
              "<Figure size 1080x1080 with 0 Axes>"
            ]
          },
          "metadata": {}
        },
        {
          "output_type": "display_data",
          "data": {
            "text/plain": [
              "<Figure size 360x360 with 1 Axes>"
            ],
            "image/png": "[encoded data removed]"
          },
          "metadata": {
            "needs_background": "light"
          }
        },
        {
          "output_type": "display_data",
          "data": {
            "text/plain": [
              "<Figure size 1080x1080 with 0 Axes>"
            ]
          },
          "metadata": {}
        },
        {
          "output_type": "display_data",
          "data": {
            "text/plain": [
              "<Figure size 360x360 with 1 Axes>"
            ],
            "image/png": "[encoded data removed]"
          },
          "metadata": {
            "needs_background": "light"
          }
        },
        {
          "output_type": "display_data",
          "data": {
            "text/plain": [
              "<Figure size 1080x1080 with 0 Axes>"
            ]
          },
          "metadata": {}
        },
        {
          "output_type": "display_data",
          "data": {
            "text/plain": [
              "<Figure size 360x360 with 1 Axes>"
            ],
            "image/png": "[encoded data removed]"
          },
          "metadata": {
            "needs_background": "light"
          }
        },
        {
          "output_type": "display_data",
          "data": {
            "text/plain": [
              "<Figure size 1080x1080 with 0 Axes>"
            ]
          },
          "metadata": {}
        },
        {
          "output_type": "display_data",
          "data": {
            "text/plain": [
              "<Figure size 360x360 with 1 Axes>"
            ],
            "image/png": "[encoded data removed]"
          },
          "metadata": {
            "needs_background": "light"
          }
        },
        {
          "output_type": "display_data",
          "data": {
            "text/plain": [
              "<Figure size 1080x1080 with 0 Axes>"
            ]
          },
          "metadata": {}
        },
        {
          "output_type": "display_data",
          "data": {
            "text/plain": [
              "<Figure size 360x360 with 1 Axes>"
            ],
            "image/png": "[encoded data removed]"
          },
          "metadata": {
            "needs_background": "light"
          }
        },
        {
          "output_type": "display_data",
          "data": {
            "text/plain": [
              "<Figure size 1080x1080 with 0 Axes>"
            ]
          },
          "metadata": {}
        },
        {
          "output_type": "display_data",
          "data": {
            "text/plain": [
              "<Figure size 360x360 with 1 Axes>"
            ],
            "image/png": "[encoded data removed]"
          },
          "metadata": {
            "needs_background": "light"
          }
        },
        {
          "output_type": "display_data",
          "data": {
            "text/plain": [
              "<Figure size 1080x1080 with 0 Axes>"
            ]
          },
          "metadata": {}
        }
      ],
      "source": [
        "for feature in cont_feature:\n",
        "    data=price.copy()\n",
        "    sns.displot(price[feature])\n",
        "    plt.xlabel(feature)\n",
        "    plt.ylabel('count')\n",
        "    plt.title(feature)\n",
        "    plt.figure(figsize=(15,15))\n",
        "    plt.show()"
      ]
    },
    {
      "cell_type": "code",
      "execution_count": 59,
      "id": "ad5d927e",
      "metadata": {
        "id": "ad5d927e",
        "outputId": "81170f11-2c10-442a-bb32-65073ad6c53e",
        "colab": {
          "base_uri": "https://localhost:8080/",
          "height": 661
        }
      },
      "outputs": [
        {
          "output_type": "execute_result",
          "data": {
            "text/plain": [
              "      LotArea Street LotShape LandContour Utilities LotConfig LandSlope  \\\n",
              "0        4928   Pave      IR1         Lvl    AllPub    Inside       Gtl   \n",
              "1       15865   Pave      IR1         Lvl    AllPub    Inside       Mod   \n",
              "2        9920   Pave      IR1         Lvl    AllPub   CulDSac       Gtl   \n",
              "3       11751   Pave      IR1         Lvl    AllPub    Inside       Gtl   \n",
              "4       16635   Pave      IR1         Lvl    AllPub       FR2       Gtl   \n",
              "...       ...    ...      ...         ...       ...       ...       ...   \n",
              "1163     9819   Pave      IR1         Lvl    AllPub    Inside       Gtl   \n",
              "1164     8777   Pave      Reg         Lvl    AllPub    Inside       Gtl   \n",
              "1165     2280   Pave      Reg         Lvl    AllPub       FR2       Gtl   \n",
              "1166     8500   Pave      Reg         Lvl    AllPub    Inside       Gtl   \n",
              "1167     7861   Pave      IR1         Lvl    AllPub    Inside       Gtl   \n",
              "\n",
              "     Neighborhood Condition1 Condition2 BldgType HouseStyle  OverallQual  \\\n",
              "0         NPkVill       Norm       Norm   TwnhsE     1Story            6   \n",
              "1           NAmes       Norm       Norm     1Fam     1Story            8   \n",
              "2         NoRidge       Norm       Norm     1Fam     2Story            7   \n",
              "3          NWAmes       Norm       Norm     1Fam     1Story            6   \n",
              "4          NWAmes       Norm       Norm     1Fam     1Story            6   \n",
              "...           ...        ...        ...      ...        ...          ...   \n",
              "1163       Sawyer       Norm       Norm     1Fam     1Story            5   \n",
              "1164      Edwards      Feedr       Norm     1Fam     1Story            4   \n",
              "1165      NPkVill       Norm       Norm    Twnhs     2Story            6   \n",
              "1166       IDOTRR      Feedr       Norm     1Fam     2Story            4   \n",
              "1167      Gilbert       Norm       Norm     1Fam     2Story            6   \n",
              "\n",
              "      OverallCond  YearBuilt  YearRemodAdd RoofStyle RoofMatl Exterior1st  \\\n",
              "0               5       1976          1976     Gable  CompShg     Plywood   \n",
              "1               6       1970          1970      Flat  Tar&Grv     Wd Sdng   \n",
              "2               5       1996          1997     Gable  CompShg     MetalSd   \n",
              "3               6       1977          1977       Hip  CompShg     Plywood   \n",
              "4               7       1977          2000     Gable  CompShg     CemntBd   \n",
              "...           ...        ...           ...       ...      ...         ...   \n",
              "1163            5       1967          1967     Gable  CompShg     MetalSd   \n",
              "1164            5       1949          2003     Gable  CompShg     VinylSd   \n",
              "1165            6       1976          1976     Gable  CompShg     Plywood   \n",
              "1166            4       1920          1950   Gambrel  CompShg     BrkFace   \n",
              "1167            5       2002          2003     Gable  CompShg     VinylSd   \n",
              "\n",
              "     Exterior2nd MasVnrType  MasVnrArea ExterQual ExterCond Foundation  \\\n",
              "0        Plywood       None         0.0        TA        TA     CBlock   \n",
              "1        Wd Sdng       None         0.0        Gd        Gd      PConc   \n",
              "2        MetalSd       None         0.0        Gd        TA      PConc   \n",
              "3        Plywood    BrkFace       480.0        TA        TA     CBlock   \n",
              "4        CmentBd      Stone       126.0        Gd        TA     CBlock   \n",
              "...          ...        ...         ...       ...       ...        ...   \n",
              "1163     MetalSd    BrkFace        31.0        TA        Gd     CBlock   \n",
              "1164     VinylSd       None         0.0        TA        TA     CBlock   \n",
              "1165     Brk Cmn       None         0.0        TA        TA     CBlock   \n",
              "1166     BrkFace       None         0.0        TA        Fa     BrkTil   \n",
              "1167     VinylSd       None         0.0        Gd        TA      PConc   \n",
              "\n",
              "     BsmtQual BsmtCond BsmtExposure BsmtFinType1  BsmtFinSF1 BsmtFinType2  \\\n",
              "0          Gd       TA           No          ALQ         120          Unf   \n",
              "1          TA       Gd           Gd          ALQ         351          Rec   \n",
              "2          Gd       TA           Av          GLQ         862          Unf   \n",
              "3          Gd       TA           No          BLQ         705          Unf   \n",
              "4          Gd       TA           No          ALQ        1246          Unf   \n",
              "...       ...      ...          ...          ...         ...          ...   \n",
              "1163       TA       TA           No          BLQ         450          Unf   \n",
              "1164       TA       TA           No          Unf           0          NaN   \n",
              "1165       Gd       TA           No          ALQ         566          Unf   \n",
              "1166       TA       TA           No          Unf           0          Unf   \n",
              "1167       Gd       TA           No          GLQ         457          Unf   \n",
              "\n",
              "      BsmtFinSF2  BsmtUnfSF  TotalBsmtSF Heating HeatingQC CentralAir  \\\n",
              "0              0        958         1078    GasA        TA          Y   \n",
              "1            823       1043         2217    GasA        Ex          Y   \n",
              "2              0        255         1117    GasA        Ex          Y   \n",
              "3              0       1139         1844    GasA        Ex          Y   \n",
              "4              0        356         1602    GasA        Gd          Y   \n",
              "...          ...        ...          ...     ...       ...        ...   \n",
              "1163           0        432          882    GasA        TA          Y   \n",
              "1164           0          0            0    GasA        Ex          Y   \n",
              "1165           0        289          855    GasA        TA          Y   \n",
              "1166           0        649          649    GasA        TA          N   \n",
              "1167           0        326          783    GasA        Ex          Y   \n",
              "\n",
              "     Electrical  1stFlrSF  2ndFlrSF  LowQualFinSF  GrLivArea  BsmtFullBath  \\\n",
              "0         SBrkr       958         0             0        958             0   \n",
              "1         SBrkr      2217         0             0       2217             1   \n",
              "2         SBrkr      1127       886             0       2013             1   \n",
              "3         SBrkr      1844         0             0       1844             0   \n",
              "4         SBrkr      1602         0             0       1602             0   \n",
              "...         ...       ...       ...           ...        ...           ...   \n",
              "1163      SBrkr       900         0             0        900             0   \n",
              "1164      SBrkr      1126         0             0       1126             0   \n",
              "1165      SBrkr       855       601             0       1456             0   \n",
              "1166      SBrkr       649       668             0       1317             0   \n",
              "1167      SBrkr       807       702             0       1509             1   \n",
              "\n",
              "      BsmtHalfBath  FullBath  HalfBath  BedroomAbvGr  KitchenAbvGr  \\\n",
              "0                0         2         0             2             1   \n",
              "1                0         2         0             4             1   \n",
              "2                0         2         1             3             1   \n",
              "3                0         2         0             3             1   \n",
              "4                1         2         0             3             1   \n",
              "...            ...       ...       ...           ...           ...   \n",
              "1163             0         1         0             3             1   \n",
              "1164             0         2         0             2             1   \n",
              "1165             0         2         1             3             1   \n",
              "1166             0         1         0             3             1   \n",
              "1167             0         2         1             3             1   \n",
              "\n",
              "     KitchenQual  TotRmsAbvGrd Functional  Fireplaces   FireplaceQu  \\\n",
              "0             TA             5        Typ           1            TA   \n",
              "1             Gd             8        Typ           1            TA   \n",
              "2             TA             8        Typ           1            TA   \n",
              "3             TA             7        Typ           1            TA   \n",
              "4             Gd             8        Typ           1            TA   \n",
              "...          ...           ...        ...         ...           ...   \n",
              "1163          TA             5        Typ           0  No Fireplace   \n",
              "1164          Gd             5        Typ           0  No Fireplace   \n",
              "1165          TA             7        Typ           1            TA   \n",
              "1166          TA             6        Typ           0  No Fireplace   \n",
              "1167          Gd             7        Typ           1            Gd   \n",
              "\n",
              "     GarageType GarageYrBlt GarageFinish  GarageArea GarageQual GarageCond  \\\n",
              "0        Attchd      1977.0          RFn         440         TA         TA   \n",
              "1        Attchd      1970.0          Unf         621         TA         TA   \n",
              "2        Attchd      1997.0          Unf         455         TA         TA   \n",
              "3        Attchd      1977.0          RFn         546         TA         TA   \n",
              "4        Attchd      1977.0          Fin         529         TA         TA   \n",
              "...         ...         ...          ...         ...        ...        ...   \n",
              "1163     Detchd      1970.0          Unf         280         TA         TA   \n",
              "1164     Detchd      2002.0          Fin         520         TA         TA   \n",
              "1165     Attchd      1976.0          Unf         440         TA         TA   \n",
              "1166     Detchd      1920.0          Unf         250         TA         Fa   \n",
              "1167     Attchd      2002.0          Fin         393         TA         TA   \n",
              "\n",
              "     PavedDrive  WoodDeckSF  OpenPorchSF  EnclosedPorch  3SsnPorch  \\\n",
              "0             Y           0          205              0          0   \n",
              "1             Y          81          207              0          0   \n",
              "2             Y         180          130              0          0   \n",
              "3             Y           0          122              0          0   \n",
              "4             Y         240            0              0          0   \n",
              "...         ...         ...          ...            ...        ...   \n",
              "1163          Y           0            0              0          0   \n",
              "1164          N           0           96              0          0   \n",
              "1165          Y          87            0              0          0   \n",
              "1166          N           0           54            172          0   \n",
              "1167          Y         100           75              0          0   \n",
              "\n",
              "      ScreenPorch  PoolArea   PoolQC     Fence  MoSold  YrSold SaleType  \\\n",
              "0               0         0  No Pool  No Fence       2    2007       WD   \n",
              "1             224         0  No Pool  No Fence      10    2007       WD   \n",
              "2               0         0  No Pool  No Fence       6    2007       WD   \n",
              "3               0         0  No Pool     MnPrv       1    2010      COD   \n",
              "4               0         0  No Pool  No Fence       6    2009       WD   \n",
              "...           ...       ...      ...       ...     ...     ...      ...   \n",
              "1163            0         0  No Pool     MnPrv       2    2010       WD   \n",
              "1164            0         0  No Pool     MnPrv       5    2009       WD   \n",
              "1165            0         0  No Pool  No Fence       7    2009       WD   \n",
              "1166            0         0  No Pool     MnPrv       7    2008       WD   \n",
              "1167            0         0  No Pool  No Fence       6    2006       WD   \n",
              "\n",
              "     SaleCondition  SalePrice  \n",
              "0           Normal     128000  \n",
              "1           Normal     268000  \n",
              "2           Normal     269790  \n",
              "3           Normal     190000  \n",
              "4           Normal     215000  \n",
              "...            ...        ...  \n",
              "1163        Normal     122000  \n",
              "1164        Normal     108000  \n",
              "1165        Normal     148500  \n",
              "1166        Normal      40000  \n",
              "1167        Normal     183200  \n",
              "\n",
              "[1168 rows x 73 columns]"
            ],
            "text/html": [
              "\n",
              "  <div id=\"df-da0312c1-7d97-44f0-963f-246ddc6017c7\">\n",
              "    <div class=\"colab-df-container\">\n",
              "      <div>\n",
              "<style scoped>\n",
              "    .dataframe tbody tr th:only-of-type {\n",
              "        vertical-align: middle;\n",
              "    }\n",
              "\n",
              "    .dataframe tbody tr th {\n",
              "        vertical-align: top;\n",
              "    }\n",
              "\n",
              "    .dataframe thead th {\n",
              "        text-align: right;\n",
              "    }\n",
              "</style>\n",
              "<table border=\"1\" class=\"dataframe\">\n",
              "  <thead>\n",
              "    <tr style=\"text-align: right;\">\n",
              "      <th></th>\n",
              "      <th>LotArea</th>\n",
              "      <th>Street</th>\n",
              "      <th>LotShape</th>\n",
              "      <th>LandContour</th>\n",
              "      <th>Utilities</th>\n",
              "      <th>LotConfig</th>\n",
              "      <th>LandSlope</th>\n",
              "      <th>Neighborhood</th>\n",
              "      <th>Condition1</th>\n",
              "      <th>Condition2</th>\n",
              "      <th>BldgType</th>\n",
              "      <th>HouseStyle</th>\n",
              "      <th>OverallQual</th>\n",
              "      <th>OverallCond</th>\n",
              "      <th>YearBuilt</th>\n",
              "      <th>YearRemodAdd</th>\n",
              "      <th>RoofStyle</th>\n",
              "      <th>RoofMatl</th>\n",
              "      <th>Exterior1st</th>\n",
              "      <th>Exterior2nd</th>\n",
              "      <th>MasVnrType</th>\n",
              "      <th>MasVnrArea</th>\n",
              "      <th>ExterQual</th>\n",
              "      <th>ExterCond</th>\n",
              "      <th>Foundation</th>\n",
              "      <th>BsmtQual</th>\n",
              "      <th>BsmtCond</th>\n",
              "      <th>BsmtExposure</th>\n",
              "      <th>BsmtFinType1</th>\n",
              "      <th>BsmtFinSF1</th>\n",
              "      <th>BsmtFinType2</th>\n",
              "      <th>BsmtFinSF2</th>\n",
              "      <th>BsmtUnfSF</th>\n",
              "      <th>TotalBsmtSF</th>\n",
              "      <th>Heating</th>\n",
              "      <th>HeatingQC</th>\n",
              "      <th>CentralAir</th>\n",
              "      <th>Electrical</th>\n",
              "      <th>1stFlrSF</th>\n",
              "      <th>2ndFlrSF</th>\n",
              "      <th>LowQualFinSF</th>\n",
              "      <th>GrLivArea</th>\n",
              "      <th>BsmtFullBath</th>\n",
              "      <th>BsmtHalfBath</th>\n",
              "      <th>FullBath</th>\n",
              "      <th>HalfBath</th>\n",
              "      <th>BedroomAbvGr</th>\n",
              "      <th>KitchenAbvGr</th>\n",
              "      <th>KitchenQual</th>\n",
              "      <th>TotRmsAbvGrd</th>\n",
              "      <th>Functional</th>\n",
              "      <th>Fireplaces</th>\n",
              "      <th>FireplaceQu</th>\n",
              "      <th>GarageType</th>\n",
              "      <th>GarageYrBlt</th>\n",
              "      <th>GarageFinish</th>\n",
              "      <th>GarageArea</th>\n",
              "      <th>GarageQual</th>\n",
              "      <th>GarageCond</th>\n",
              "      <th>PavedDrive</th>\n",
              "      <th>WoodDeckSF</th>\n",
              "      <th>OpenPorchSF</th>\n",
              "      <th>EnclosedPorch</th>\n",
              "      <th>3SsnPorch</th>\n",
              "      <th>ScreenPorch</th>\n",
              "      <th>PoolArea</th>\n",
              "      <th>PoolQC</th>\n",
              "      <th>Fence</th>\n",
              "      <th>MoSold</th>\n",
              "      <th>YrSold</th>\n",
              "      <th>SaleType</th>\n",
              "      <th>SaleCondition</th>\n",
              "      <th>SalePrice</th>\n",
              "    </tr>\n",
              "  </thead>\n",
              "  <tbody>\n",
              "    <tr>\n",
              "      <th>0</th>\n",
              "      <td>4928</td>\n",
              "      <td>Pave</td>\n",
              "      <td>IR1</td>\n",
              "      <td>Lvl</td>\n",
              "      <td>AllPub</td>\n",
              "      <td>Inside</td>\n",
              "      <td>Gtl</td>\n",
              "      <td>NPkVill</td>\n",
              "      <td>Norm</td>\n",
              "      <td>Norm</td>\n",
              "      <td>TwnhsE</td>\n",
              "      <td>1Story</td>\n",
              "      <td>6</td>\n",
              "      <td>5</td>\n",
              "      <td>1976</td>\n",
              "      <td>1976</td>\n",
              "      <td>Gable</td>\n",
              "      <td>CompShg</td>\n",
              "      <td>Plywood</td>\n",
              "      <td>Plywood</td>\n",
              "      <td>None</td>\n",
              "      <td>0.0</td>\n",
              "      <td>TA</td>\n",
              "      <td>TA</td>\n",
              "      <td>CBlock</td>\n",
              "      <td>Gd</td>\n",
              "      <td>TA</td>\n",
              "      <td>No</td>\n",
              "      <td>ALQ</td>\n",
              "      <td>120</td>\n",
              "      <td>Unf</td>\n",
              "      <td>0</td>\n",
              "      <td>958</td>\n",
              "      <td>1078</td>\n",
              "      <td>GasA</td>\n",
              "      <td>TA</td>\n",
              "      <td>Y</td>\n",
              "      <td>SBrkr</td>\n",
              "      <td>958</td>\n",
              "      <td>0</td>\n",
              "      <td>0</td>\n",
              "      <td>958</td>\n",
              "      <td>0</td>\n",
              "      <td>0</td>\n",
              "      <td>2</td>\n",
              "      <td>0</td>\n",
              "      <td>2</td>\n",
              "      <td>1</td>\n",
              "      <td>TA</td>\n",
              "      <td>5</td>\n",
              "      <td>Typ</td>\n",
              "      <td>1</td>\n",
              "      <td>TA</td>\n",
              "      <td>Attchd</td>\n",
              "      <td>1977.0</td>\n",
              "      <td>RFn</td>\n",
              "      <td>440</td>\n",
              "      <td>TA</td>\n",
              "      <td>TA</td>\n",
              "      <td>Y</td>\n",
              "      <td>0</td>\n",
              "      <td>205</td>\n",
              "      <td>0</td>\n",
              "      <td>0</td>\n",
              "      <td>0</td>\n",
              "      <td>0</td>\n",
              "      <td>No Pool</td>\n",
              "      <td>No Fence</td>\n",
              "      <td>2</td>\n",
              "      <td>2007</td>\n",
              "      <td>WD</td>\n",
              "      <td>Normal</td>\n",
              "      <td>128000</td>\n",
              "    </tr>\n",
              "    <tr>\n",
              "      <th>1</th>\n",
              "      <td>15865</td>\n",
              "      <td>Pave</td>\n",
              "      <td>IR1</td>\n",
              "      <td>Lvl</td>\n",
              "      <td>AllPub</td>\n",
              "      <td>Inside</td>\n",
              "      <td>Mod</td>\n",
              "      <td>NAmes</td>\n",
              "      <td>Norm</td>\n",
              "      <td>Norm</td>\n",
              "      <td>1Fam</td>\n",
              "      <td>1Story</td>\n",
              "      <td>8</td>\n",
              "      <td>6</td>\n",
              "      <td>1970</td>\n",
              "      <td>1970</td>\n",
              "      <td>Flat</td>\n",
              "      <td>Tar&amp;Grv</td>\n",
              "      <td>Wd Sdng</td>\n",
              "      <td>Wd Sdng</td>\n",
              "      <td>None</td>\n",
              "      <td>0.0</td>\n",
              "      <td>Gd</td>\n",
              "      <td>Gd</td>\n",
              "      <td>PConc</td>\n",
              "      <td>TA</td>\n",
              "      <td>Gd</td>\n",
              "      <td>Gd</td>\n",
              "      <td>ALQ</td>\n",
              "      <td>351</td>\n",
              "      <td>Rec</td>\n",
              "      <td>823</td>\n",
              "      <td>1043</td>\n",
              "      <td>2217</td>\n",
              "      <td>GasA</td>\n",
              "      <td>Ex</td>\n",
              "      <td>Y</td>\n",
              "      <td>SBrkr</td>\n",
              "      <td>2217</td>\n",
              "      <td>0</td>\n",
              "      <td>0</td>\n",
              "      <td>2217</td>\n",
              "      <td>1</td>\n",
              "      <td>0</td>\n",
              "      <td>2</td>\n",
              "      <td>0</td>\n",
              "      <td>4</td>\n",
              "      <td>1</td>\n",
              "      <td>Gd</td>\n",
              "      <td>8</td>\n",
              "      <td>Typ</td>\n",
              "      <td>1</td>\n",
              "      <td>TA</td>\n",
              "      <td>Attchd</td>\n",
              "      <td>1970.0</td>\n",
              "      <td>Unf</td>\n",
              "      <td>621</td>\n",
              "      <td>TA</td>\n",
              "      <td>TA</td>\n",
              "      <td>Y</td>\n",
              "      <td>81</td>\n",
              "      <td>207</td>\n",
              "      <td>0</td>\n",
              "      <td>0</td>\n",
              "      <td>224</td>\n",
              "      <td>0</td>\n",
              "      <td>No Pool</td>\n",
              "      <td>No Fence</td>\n",
              "      <td>10</td>\n",
              "      <td>2007</td>\n",
              "      <td>WD</td>\n",
              "      <td>Normal</td>\n",
              "      <td>268000</td>\n",
              "    </tr>\n",
              "    <tr>\n",
              "      <th>2</th>\n",
              "      <td>9920</td>\n",
              "      <td>Pave</td>\n",
              "      <td>IR1</td>\n",
              "      <td>Lvl</td>\n",
              "      <td>AllPub</td>\n",
              "      <td>CulDSac</td>\n",
              "      <td>Gtl</td>\n",
              "      <td>NoRidge</td>\n",
              "      <td>Norm</td>\n",
              "      <td>Norm</td>\n",
              "      <td>1Fam</td>\n",
              "      <td>2Story</td>\n",
              "      <td>7</td>\n",
              "      <td>5</td>\n",
              "      <td>1996</td>\n",
              "      <td>1997</td>\n",
              "      <td>Gable</td>\n",
              "      <td>CompShg</td>\n",
              "      <td>MetalSd</td>\n",
              "      <td>MetalSd</td>\n",
              "      <td>None</td>\n",
              "      <td>0.0</td>\n",
              "      <td>Gd</td>\n",
              "      <td>TA</td>\n",
              "      <td>PConc</td>\n",
              "      <td>Gd</td>\n",
              "      <td>TA</td>\n",
              "      <td>Av</td>\n",
              "      <td>GLQ</td>\n",
              "      <td>862</td>\n",
              "      <td>Unf</td>\n",
              "      <td>0</td>\n",
              "      <td>255</td>\n",
              "      <td>1117</td>\n",
              "      <td>GasA</td>\n",
              "      <td>Ex</td>\n",
              "      <td>Y</td>\n",
              "      <td>SBrkr</td>\n",
              "      <td>1127</td>\n",
              "      <td>886</td>\n",
              "      <td>0</td>\n",
              "      <td>2013</td>\n",
              "      <td>1</td>\n",
              "      <td>0</td>\n",
              "      <td>2</td>\n",
              "      <td>1</td>\n",
              "      <td>3</td>\n",
              "      <td>1</td>\n",
              "      <td>TA</td>\n",
              "      <td>8</td>\n",
              "      <td>Typ</td>\n",
              "      <td>1</td>\n",
              "      <td>TA</td>\n",
              "      <td>Attchd</td>\n",
              "      <td>1997.0</td>\n",
              "      <td>Unf</td>\n",
              "      <td>455</td>\n",
              "      <td>TA</td>\n",
              "      <td>TA</td>\n",
              "      <td>Y</td>\n",
              "      <td>180</td>\n",
              "      <td>130</td>\n",
              "      <td>0</td>\n",
              "      <td>0</td>\n",
              "      <td>0</td>\n",
              "      <td>0</td>\n",
              "      <td>No Pool</td>\n",
              "      <td>No Fence</td>\n",
              "      <td>6</td>\n",
              "      <td>2007</td>\n",
              "      <td>WD</td>\n",
              "      <td>Normal</td>\n",
              "      <td>269790</td>\n",
              "    </tr>\n",
              "    <tr>\n",
              "      <th>3</th>\n",
              "      <td>11751</td>\n",
              "      <td>Pave</td>\n",
              "      <td>IR1</td>\n",
              "      <td>Lvl</td>\n",
              "      <td>AllPub</td>\n",
              "      <td>Inside</td>\n",
              "      <td>Gtl</td>\n",
              "      <td>NWAmes</td>\n",
              "      <td>Norm</td>\n",
              "      <td>Norm</td>\n",
              "      <td>1Fam</td>\n",
              "      <td>1Story</td>\n",
              "      <td>6</td>\n",
              "      <td>6</td>\n",
              "      <td>1977</td>\n",
              "      <td>1977</td>\n",
              "      <td>Hip</td>\n",
              "      <td>CompShg</td>\n",
              "      <td>Plywood</td>\n",
              "      <td>Plywood</td>\n",
              "      <td>BrkFace</td>\n",
              "      <td>480.0</td>\n",
              "      <td>TA</td>\n",
              "      <td>TA</td>\n",
              "      <td>CBlock</td>\n",
              "      <td>Gd</td>\n",
              "      <td>TA</td>\n",
              "      <td>No</td>\n",
              "      <td>BLQ</td>\n",
              "      <td>705</td>\n",
              "      <td>Unf</td>\n",
              "      <td>0</td>\n",
              "      <td>1139</td>\n",
              "      <td>1844</td>\n",
              "      <td>GasA</td>\n",
              "      <td>Ex</td>\n",
              "      <td>Y</td>\n",
              "      <td>SBrkr</td>\n",
              "      <td>1844</td>\n",
              "      <td>0</td>\n",
              "      <td>0</td>\n",
              "      <td>1844</td>\n",
              "      <td>0</td>\n",
              "      <td>0</td>\n",
              "      <td>2</td>\n",
              "      <td>0</td>\n",
              "      <td>3</td>\n",
              "      <td>1</td>\n",
              "      <td>TA</td>\n",
              "      <td>7</td>\n",
              "      <td>Typ</td>\n",
              "      <td>1</td>\n",
              "      <td>TA</td>\n",
              "      <td>Attchd</td>\n",
              "      <td>1977.0</td>\n",
              "      <td>RFn</td>\n",
              "      <td>546</td>\n",
              "      <td>TA</td>\n",
              "      <td>TA</td>\n",
              "      <td>Y</td>\n",
              "      <td>0</td>\n",
              "      <td>122</td>\n",
              "      <td>0</td>\n",
              "      <td>0</td>\n",
              "      <td>0</td>\n",
              "      <td>0</td>\n",
              "      <td>No Pool</td>\n",
              "      <td>MnPrv</td>\n",
              "      <td>1</td>\n",
              "      <td>2010</td>\n",
              "      <td>COD</td>\n",
              "      <td>Normal</td>\n",
              "      <td>190000</td>\n",
              "    </tr>\n",
              "    <tr>\n",
              "      <th>4</th>\n",
              "      <td>16635</td>\n",
              "      <td>Pave</td>\n",
              "      <td>IR1</td>\n",
              "      <td>Lvl</td>\n",
              "      <td>AllPub</td>\n",
              "      <td>FR2</td>\n",
              "      <td>Gtl</td>\n",
              "      <td>NWAmes</td>\n",
              "      <td>Norm</td>\n",
              "      <td>Norm</td>\n",
              "      <td>1Fam</td>\n",
              "      <td>1Story</td>\n",
              "      <td>6</td>\n",
              "      <td>7</td>\n",
              "      <td>1977</td>\n",
              "      <td>2000</td>\n",
              "      <td>Gable</td>\n",
              "      <td>CompShg</td>\n",
              "      <td>CemntBd</td>\n",
              "      <td>CmentBd</td>\n",
              "      <td>Stone</td>\n",
              "      <td>126.0</td>\n",
              "      <td>Gd</td>\n",
              "      <td>TA</td>\n",
              "      <td>CBlock</td>\n",
              "      <td>Gd</td>\n",
              "      <td>TA</td>\n",
              "      <td>No</td>\n",
              "      <td>ALQ</td>\n",
              "      <td>1246</td>\n",
              "      <td>Unf</td>\n",
              "      <td>0</td>\n",
              "      <td>356</td>\n",
              "      <td>1602</td>\n",
              "      <td>GasA</td>\n",
              "      <td>Gd</td>\n",
              "      <td>Y</td>\n",
              "      <td>SBrkr</td>\n",
              "      <td>1602</td>\n",
              "      <td>0</td>\n",
              "      <td>0</td>\n",
              "      <td>1602</td>\n",
              "      <td>0</td>\n",
              "      <td>1</td>\n",
              "      <td>2</td>\n",
              "      <td>0</td>\n",
              "      <td>3</td>\n",
              "      <td>1</td>\n",
              "      <td>Gd</td>\n",
              "      <td>8</td>\n",
              "      <td>Typ</td>\n",
              "      <td>1</td>\n",
              "      <td>TA</td>\n",
              "      <td>Attchd</td>\n",
              "      <td>1977.0</td>\n",
              "      <td>Fin</td>\n",
              "      <td>529</td>\n",
              "      <td>TA</td>\n",
              "      <td>TA</td>\n",
              "      <td>Y</td>\n",
              "      <td>240</td>\n",
              "      <td>0</td>\n",
              "      <td>0</td>\n",
              "      <td>0</td>\n",
              "      <td>0</td>\n",
              "      <td>0</td>\n",
              "      <td>No Pool</td>\n",
              "      <td>No Fence</td>\n",
              "      <td>6</td>\n",
              "      <td>2009</td>\n",
              "      <td>WD</td>\n",
              "      <td>Normal</td>\n",
              "      <td>215000</td>\n",
              "    </tr>\n",
              "    <tr>\n",
              "      <th>...</th>\n",
              "      <td>...</td>\n",
              "      <td>...</td>\n",
              "      <td>...</td>\n",
              "      <td>...</td>\n",
              "      <td>...</td>\n",
              "      <td>...</td>\n",
              "      <td>...</td>\n",
              "      <td>...</td>\n",
              "      <td>...</td>\n",
              "      <td>...</td>\n",
              "      <td>...</td>\n",
              "      <td>...</td>\n",
              "      <td>...</td>\n",
              "      <td>...</td>\n",
              "      <td>...</td>\n",
              "      <td>...</td>\n",
              "      <td>...</td>\n",
              "      <td>...</td>\n",
              "      <td>...</td>\n",
              "      <td>...</td>\n",
              "      <td>...</td>\n",
              "      <td>...</td>\n",
              "      <td>...</td>\n",
              "      <td>...</td>\n",
              "      <td>...</td>\n",
              "      <td>...</td>\n",
              "      <td>...</td>\n",
              "      <td>...</td>\n",
              "      <td>...</td>\n",
              "      <td>...</td>\n",
              "      <td>...</td>\n",
              "      <td>...</td>\n",
              "      <td>...</td>\n",
              "      <td>...</td>\n",
              "      <td>...</td>\n",
              "      <td>...</td>\n",
              "      <td>...</td>\n",
              "      <td>...</td>\n",
              "      <td>...</td>\n",
              "      <td>...</td>\n",
              "      <td>...</td>\n",
              "      <td>...</td>\n",
              "      <td>...</td>\n",
              "      <td>...</td>\n",
              "      <td>...</td>\n",
              "      <td>...</td>\n",
              "      <td>...</td>\n",
              "      <td>...</td>\n",
              "      <td>...</td>\n",
              "      <td>...</td>\n",
              "      <td>...</td>\n",
              "      <td>...</td>\n",
              "      <td>...</td>\n",
              "      <td>...</td>\n",
              "      <td>...</td>\n",
              "      <td>...</td>\n",
              "      <td>...</td>\n",
              "      <td>...</td>\n",
              "      <td>...</td>\n",
              "      <td>...</td>\n",
              "      <td>...</td>\n",
              "      <td>...</td>\n",
              "      <td>...</td>\n",
              "      <td>...</td>\n",
              "      <td>...</td>\n",
              "      <td>...</td>\n",
              "      <td>...</td>\n",
              "      <td>...</td>\n",
              "      <td>...</td>\n",
              "      <td>...</td>\n",
              "      <td>...</td>\n",
              "      <td>...</td>\n",
              "      <td>...</td>\n",
              "    </tr>\n",
              "    <tr>\n",
              "      <th>1163</th>\n",
              "      <td>9819</td>\n",
              "      <td>Pave</td>\n",
              "      <td>IR1</td>\n",
              "      <td>Lvl</td>\n",
              "      <td>AllPub</td>\n",
              "      <td>Inside</td>\n",
              "      <td>Gtl</td>\n",
              "      <td>Sawyer</td>\n",
              "      <td>Norm</td>\n",
              "      <td>Norm</td>\n",
              "      <td>1Fam</td>\n",
              "      <td>1Story</td>\n",
              "      <td>5</td>\n",
              "      <td>5</td>\n",
              "      <td>1967</td>\n",
              "      <td>1967</td>\n",
              "      <td>Gable</td>\n",
              "      <td>CompShg</td>\n",
              "      <td>MetalSd</td>\n",
              "      <td>MetalSd</td>\n",
              "      <td>BrkFace</td>\n",
              "      <td>31.0</td>\n",
              "      <td>TA</td>\n",
              "      <td>Gd</td>\n",
              "      <td>CBlock</td>\n",
              "      <td>TA</td>\n",
              "      <td>TA</td>\n",
              "      <td>No</td>\n",
              "      <td>BLQ</td>\n",
              "      <td>450</td>\n",
              "      <td>Unf</td>\n",
              "      <td>0</td>\n",
              "      <td>432</td>\n",
              "      <td>882</td>\n",
              "      <td>GasA</td>\n",
              "      <td>TA</td>\n",
              "      <td>Y</td>\n",
              "      <td>SBrkr</td>\n",
              "      <td>900</td>\n",
              "      <td>0</td>\n",
              "      <td>0</td>\n",
              "      <td>900</td>\n",
              "      <td>0</td>\n",
              "      <td>0</td>\n",
              "      <td>1</td>\n",
              "      <td>0</td>\n",
              "      <td>3</td>\n",
              "      <td>1</td>\n",
              "      <td>TA</td>\n",
              "      <td>5</td>\n",
              "      <td>Typ</td>\n",
              "      <td>0</td>\n",
              "      <td>No Fireplace</td>\n",
              "      <td>Detchd</td>\n",
              "      <td>1970.0</td>\n",
              "      <td>Unf</td>\n",
              "      <td>280</td>\n",
              "      <td>TA</td>\n",
              "      <td>TA</td>\n",
              "      <td>Y</td>\n",
              "      <td>0</td>\n",
              "      <td>0</td>\n",
              "      <td>0</td>\n",
              "      <td>0</td>\n",
              "      <td>0</td>\n",
              "      <td>0</td>\n",
              "      <td>No Pool</td>\n",
              "      <td>MnPrv</td>\n",
              "      <td>2</td>\n",
              "      <td>2010</td>\n",
              "      <td>WD</td>\n",
              "      <td>Normal</td>\n",
              "      <td>122000</td>\n",
              "    </tr>\n",
              "    <tr>\n",
              "      <th>1164</th>\n",
              "      <td>8777</td>\n",
              "      <td>Pave</td>\n",
              "      <td>Reg</td>\n",
              "      <td>Lvl</td>\n",
              "      <td>AllPub</td>\n",
              "      <td>Inside</td>\n",
              "      <td>Gtl</td>\n",
              "      <td>Edwards</td>\n",
              "      <td>Feedr</td>\n",
              "      <td>Norm</td>\n",
              "      <td>1Fam</td>\n",
              "      <td>1Story</td>\n",
              "      <td>4</td>\n",
              "      <td>5</td>\n",
              "      <td>1949</td>\n",
              "      <td>2003</td>\n",
              "      <td>Gable</td>\n",
              "      <td>CompShg</td>\n",
              "      <td>VinylSd</td>\n",
              "      <td>VinylSd</td>\n",
              "      <td>None</td>\n",
              "      <td>0.0</td>\n",
              "      <td>TA</td>\n",
              "      <td>TA</td>\n",
              "      <td>CBlock</td>\n",
              "      <td>TA</td>\n",
              "      <td>TA</td>\n",
              "      <td>No</td>\n",
              "      <td>Unf</td>\n",
              "      <td>0</td>\n",
              "      <td>NaN</td>\n",
              "      <td>0</td>\n",
              "      <td>0</td>\n",
              "      <td>0</td>\n",
              "      <td>GasA</td>\n",
              "      <td>Ex</td>\n",
              "      <td>Y</td>\n",
              "      <td>SBrkr</td>\n",
              "      <td>1126</td>\n",
              "      <td>0</td>\n",
              "      <td>0</td>\n",
              "      <td>1126</td>\n",
              "      <td>0</td>\n",
              "      <td>0</td>\n",
              "      <td>2</td>\n",
              "      <td>0</td>\n",
              "      <td>2</td>\n",
              "      <td>1</td>\n",
              "      <td>Gd</td>\n",
              "      <td>5</td>\n",
              "      <td>Typ</td>\n",
              "      <td>0</td>\n",
              "      <td>No Fireplace</td>\n",
              "      <td>Detchd</td>\n",
              "      <td>2002.0</td>\n",
              "      <td>Fin</td>\n",
              "      <td>520</td>\n",
              "      <td>TA</td>\n",
              "      <td>TA</td>\n",
              "      <td>N</td>\n",
              "      <td>0</td>\n",
              "      <td>96</td>\n",
              "      <td>0</td>\n",
              "      <td>0</td>\n",
              "      <td>0</td>\n",
              "      <td>0</td>\n",
              "      <td>No Pool</td>\n",
              "      <td>MnPrv</td>\n",
              "      <td>5</td>\n",
              "      <td>2009</td>\n",
              "      <td>WD</td>\n",
              "      <td>Normal</td>\n",
              "      <td>108000</td>\n",
              "    </tr>\n",
              "    <tr>\n",
              "      <th>1165</th>\n",
              "      <td>2280</td>\n",
              "      <td>Pave</td>\n",
              "      <td>Reg</td>\n",
              "      <td>Lvl</td>\n",
              "      <td>AllPub</td>\n",
              "      <td>FR2</td>\n",
              "      <td>Gtl</td>\n",
              "      <td>NPkVill</td>\n",
              "      <td>Norm</td>\n",
              "      <td>Norm</td>\n",
              "      <td>Twnhs</td>\n",
              "      <td>2Story</td>\n",
              "      <td>6</td>\n",
              "      <td>6</td>\n",
              "      <td>1976</td>\n",
              "      <td>1976</td>\n",
              "      <td>Gable</td>\n",
              "      <td>CompShg</td>\n",
              "      <td>Plywood</td>\n",
              "      <td>Brk Cmn</td>\n",
              "      <td>None</td>\n",
              "      <td>0.0</td>\n",
              "      <td>TA</td>\n",
              "      <td>TA</td>\n",
              "      <td>CBlock</td>\n",
              "      <td>Gd</td>\n",
              "      <td>TA</td>\n",
              "      <td>No</td>\n",
              "      <td>ALQ</td>\n",
              "      <td>566</td>\n",
              "      <td>Unf</td>\n",
              "      <td>0</td>\n",
              "      <td>289</td>\n",
              "      <td>855</td>\n",
              "      <td>GasA</td>\n",
              "      <td>TA</td>\n",
              "      <td>Y</td>\n",
              "      <td>SBrkr</td>\n",
              "      <td>855</td>\n",
              "      <td>601</td>\n",
              "      <td>0</td>\n",
              "      <td>1456</td>\n",
              "      <td>0</td>\n",
              "      <td>0</td>\n",
              "      <td>2</td>\n",
              "      <td>1</td>\n",
              "      <td>3</td>\n",
              "      <td>1</td>\n",
              "      <td>TA</td>\n",
              "      <td>7</td>\n",
              "      <td>Typ</td>\n",
              "      <td>1</td>\n",
              "      <td>TA</td>\n",
              "      <td>Attchd</td>\n",
              "      <td>1976.0</td>\n",
              "      <td>Unf</td>\n",
              "      <td>440</td>\n",
              "      <td>TA</td>\n",
              "      <td>TA</td>\n",
              "      <td>Y</td>\n",
              "      <td>87</td>\n",
              "      <td>0</td>\n",
              "      <td>0</td>\n",
              "      <td>0</td>\n",
              "      <td>0</td>\n",
              "      <td>0</td>\n",
              "      <td>No Pool</td>\n",
              "      <td>No Fence</td>\n",
              "      <td>7</td>\n",
              "      <td>2009</td>\n",
              "      <td>WD</td>\n",
              "      <td>Normal</td>\n",
              "      <td>148500</td>\n",
              "    </tr>\n",
              "    <tr>\n",
              "      <th>1166</th>\n",
              "      <td>8500</td>\n",
              "      <td>Pave</td>\n",
              "      <td>Reg</td>\n",
              "      <td>Lvl</td>\n",
              "      <td>AllPub</td>\n",
              "      <td>Inside</td>\n",
              "      <td>Gtl</td>\n",
              "      <td>IDOTRR</td>\n",
              "      <td>Feedr</td>\n",
              "      <td>Norm</td>\n",
              "      <td>1Fam</td>\n",
              "      <td>2Story</td>\n",
              "      <td>4</td>\n",
              "      <td>4</td>\n",
              "      <td>1920</td>\n",
              "      <td>1950</td>\n",
              "      <td>Gambrel</td>\n",
              "      <td>CompShg</td>\n",
              "      <td>BrkFace</td>\n",
              "      <td>BrkFace</td>\n",
              "      <td>None</td>\n",
              "      <td>0.0</td>\n",
              "      <td>TA</td>\n",
              "      <td>Fa</td>\n",
              "      <td>BrkTil</td>\n",
              "      <td>TA</td>\n",
              "      <td>TA</td>\n",
              "      <td>No</td>\n",
              "      <td>Unf</td>\n",
              "      <td>0</td>\n",
              "      <td>Unf</td>\n",
              "      <td>0</td>\n",
              "      <td>649</td>\n",
              "      <td>649</td>\n",
              "      <td>GasA</td>\n",
              "      <td>TA</td>\n",
              "      <td>N</td>\n",
              "      <td>SBrkr</td>\n",
              "      <td>649</td>\n",
              "      <td>668</td>\n",
              "      <td>0</td>\n",
              "      <td>1317</td>\n",
              "      <td>0</td>\n",
              "      <td>0</td>\n",
              "      <td>1</td>\n",
              "      <td>0</td>\n",
              "      <td>3</td>\n",
              "      <td>1</td>\n",
              "      <td>TA</td>\n",
              "      <td>6</td>\n",
              "      <td>Typ</td>\n",
              "      <td>0</td>\n",
              "      <td>No Fireplace</td>\n",
              "      <td>Detchd</td>\n",
              "      <td>1920.0</td>\n",
              "      <td>Unf</td>\n",
              "      <td>250</td>\n",
              "      <td>TA</td>\n",
              "      <td>Fa</td>\n",
              "      <td>N</td>\n",
              "      <td>0</td>\n",
              "      <td>54</td>\n",
              "      <td>172</td>\n",
              "      <td>0</td>\n",
              "      <td>0</td>\n",
              "      <td>0</td>\n",
              "      <td>No Pool</td>\n",
              "      <td>MnPrv</td>\n",
              "      <td>7</td>\n",
              "      <td>2008</td>\n",
              "      <td>WD</td>\n",
              "      <td>Normal</td>\n",
              "      <td>40000</td>\n",
              "    </tr>\n",
              "    <tr>\n",
              "      <th>1167</th>\n",
              "      <td>7861</td>\n",
              "      <td>Pave</td>\n",
              "      <td>IR1</td>\n",
              "      <td>Lvl</td>\n",
              "      <td>AllPub</td>\n",
              "      <td>Inside</td>\n",
              "      <td>Gtl</td>\n",
              "      <td>Gilbert</td>\n",
              "      <td>Norm</td>\n",
              "      <td>Norm</td>\n",
              "      <td>1Fam</td>\n",
              "      <td>2Story</td>\n",
              "      <td>6</td>\n",
              "      <td>5</td>\n",
              "      <td>2002</td>\n",
              "      <td>2003</td>\n",
              "      <td>Gable</td>\n",
              "      <td>CompShg</td>\n",
              "      <td>VinylSd</td>\n",
              "      <td>VinylSd</td>\n",
              "      <td>None</td>\n",
              "      <td>0.0</td>\n",
              "      <td>Gd</td>\n",
              "      <td>TA</td>\n",
              "      <td>PConc</td>\n",
              "      <td>Gd</td>\n",
              "      <td>TA</td>\n",
              "      <td>No</td>\n",
              "      <td>GLQ</td>\n",
              "      <td>457</td>\n",
              "      <td>Unf</td>\n",
              "      <td>0</td>\n",
              "      <td>326</td>\n",
              "      <td>783</td>\n",
              "      <td>GasA</td>\n",
              "      <td>Ex</td>\n",
              "      <td>Y</td>\n",
              "      <td>SBrkr</td>\n",
              "      <td>807</td>\n",
              "      <td>702</td>\n",
              "      <td>0</td>\n",
              "      <td>1509</td>\n",
              "      <td>1</td>\n",
              "      <td>0</td>\n",
              "      <td>2</td>\n",
              "      <td>1</td>\n",
              "      <td>3</td>\n",
              "      <td>1</td>\n",
              "      <td>Gd</td>\n",
              "      <td>7</td>\n",
              "      <td>Typ</td>\n",
              "      <td>1</td>\n",
              "      <td>Gd</td>\n",
              "      <td>Attchd</td>\n",
              "      <td>2002.0</td>\n",
              "      <td>Fin</td>\n",
              "      <td>393</td>\n",
              "      <td>TA</td>\n",
              "      <td>TA</td>\n",
              "      <td>Y</td>\n",
              "      <td>100</td>\n",
              "      <td>75</td>\n",
              "      <td>0</td>\n",
              "      <td>0</td>\n",
              "      <td>0</td>\n",
              "      <td>0</td>\n",
              "      <td>No Pool</td>\n",
              "      <td>No Fence</td>\n",
              "      <td>6</td>\n",
              "      <td>2006</td>\n",
              "      <td>WD</td>\n",
              "      <td>Normal</td>\n",
              "      <td>183200</td>\n",
              "    </tr>\n",
              "  </tbody>\n",
              "</table>\n",
              "<p>1168 rows × 73 columns</p>\n",
              "</div>\n",
              "      <button class=\"colab-df-convert\" onclick=\"convertToInteractive('df-da0312c1-7d97-44f0-963f-246ddc6017c7')\"\n",
              "              title=\"Convert this dataframe to an interactive table.\"\n",
              "              style=\"display:none;\">\n",
              "        \n",
              "  <svg xmlns=\"http://www.w3.org/2000/svg\" height=\"24px\"viewBox=\"0 0 24 24\"\n",
              "       width=\"24px\">\n",
              "    <path d=\"M0 0h24v24H0V0z\" fill=\"none\"/>\n",
              "    <path d=\"M18.56 5.44l.94 2.06.94-2.06 2.06-.94-2.06-.94-.94-2.06-.94 2.06-2.06.94zm-11 1L8.5 8.5l.94-2.06 2.06-.94-2.06-.94L8.5 2.5l-.94 2.06-2.06.94zm10 10l.94 2.06.94-2.06 2.06-.94-2.06-.94-.94-2.06-.94 2.06-2.06.94z\"/><path d=\"M17.41 7.96l-1.37-1.37c-.4-.4-.92-.59-1.43-.59-.52 0-1.04.2-1.43.59L10.3 9.45l-7.72 7.72c-.78.78-.78 2.05 0 2.83L4 21.41c.39.39.9.59 1.41.59.51 0 1.02-.2 1.41-.59l7.78-7.78 2.81-2.81c.8-.78.8-2.07 0-2.86zM5.41 20L4 18.59l7.72-7.72 1.47 1.35L5.41 20z\"/>\n",
              "  </svg>\n",
              "      </button>\n",
              "      \n",
              "  <style>\n",
              "    .colab-df-container {\n",
              "      display:flex;\n",
              "      flex-wrap:wrap;\n",
              "      gap: 12px;\n",
              "    }\n",
              "\n",
              "    .colab-df-convert {\n",
              "      background-color: #E8F0FE;\n",
              "      border: none;\n",
              "      border-radius: 50%;\n",
              "      cursor: pointer;\n",
              "      display: none;\n",
              "      fill: #1967D2;\n",
              "      height: 32px;\n",
              "      padding: 0 0 0 0;\n",
              "      width: 32px;\n",
              "    }\n",
              "\n",
              "    .colab-df-convert:hover {\n",
              "      background-color: #E2EBFA;\n",
              "      box-shadow: 0px 1px 2px rgba(60, 64, 67, 0.3), 0px 1px 3px 1px rgba(60, 64, 67, 0.15);\n",
              "      fill: #174EA6;\n",
              "    }\n",
              "\n",
              "    [theme=dark] .colab-df-convert {\n",
              "      background-color: #3B4455;\n",
              "      fill: #D2E3FC;\n",
              "    }\n",
              "\n",
              "    [theme=dark] .colab-df-convert:hover {\n",
              "      background-color: #434B5C;\n",
              "      box-shadow: 0px 1px 3px 1px rgba(0, 0, 0, 0.15);\n",
              "      filter: drop-shadow(0px 1px 2px rgba(0, 0, 0, 0.3));\n",
              "      fill: #FFFFFF;\n",
              "    }\n",
              "  </style>\n",
              "\n",
              "      <script>\n",
              "        const buttonEl =\n",
              "          document.querySelector('#df-da0312c1-7d97-44f0-963f-246ddc6017c7 button.colab-df-convert');\n",
              "        buttonEl.style.display =\n",
              "          google.colab.kernel.accessAllowed ? 'block' : 'none';\n",
              "\n",
              "        async function convertToInteractive(key) {\n",
              "          const element = document.querySelector('#df-da0312c1-7d97-44f0-963f-246ddc6017c7');\n",
              "          const dataTable =\n",
              "            await google.colab.kernel.invokeFunction('convertToInteractive',\n",
              "                                                     [key], {});\n",
              "          if (!dataTable) return;\n",
              "\n",
              "          const docLinkHtml = 'Like what you see? Visit the ' +\n",
              "            '<a target=\"_blank\" href=https://colab.research.google.com/notebooks/data_table.ipynb>data table notebook</a>'\n",
              "            + ' to learn more about interactive tables.';\n",
              "          element.innerHTML = '';\n",
              "          dataTable['output_type'] = 'display_data';\n",
              "          await google.colab.output.renderOutput(dataTable, element);\n",
              "          const docLink = document.createElement('div');\n",
              "          docLink.innerHTML = docLinkHtml;\n",
              "          element.appendChild(docLink);\n",
              "        }\n",
              "      </script>\n",
              "    </div>\n",
              "  </div>\n",
              "  "
            ]
          },
          "metadata": {},
          "execution_count": 59
        }
      ],
      "source": [
        "data"
      ]
    },
    {
      "cell_type": "code",
      "execution_count": 60,
      "id": "40b51c76",
      "metadata": {
        "scrolled": false,
        "id": "40b51c76",
        "outputId": "97f0bca6-039e-4b5b-f2eb-3e3688ce3e29",
        "colab": {
          "base_uri": "https://localhost:8080/",
          "height": 1000
        }
      },
      "outputs": [
        {
          "output_type": "stream",
          "name": "stderr",
          "text": [
            "/usr/local/lib/python3.7/dist-packages/seaborn/_decorators.py:43: FutureWarning: Pass the following variable as a keyword arg: x. From version 0.12, the only valid positional argument will be `data`, and passing other arguments without an explicit keyword will result in an error or misinterpretation.\n",
            "  FutureWarning\n"
          ]
        },
        {
          "output_type": "display_data",
          "data": {
            "text/plain": [
              "<Figure size 432x288 with 1 Axes>"
            ],
            "image/png": "[encoded data removed]"
          },
          "metadata": {
            "needs_background": "light"
          }
        },
        {
          "output_type": "display_data",
          "data": {
            "text/plain": [
              "<Figure size 1080x1080 with 0 Axes>"
            ]
          },
          "metadata": {}
        },
        {
          "output_type": "stream",
          "name": "stderr",
          "text": [
            "/usr/local/lib/python3.7/dist-packages/seaborn/_decorators.py:43: FutureWarning: Pass the following variable as a keyword arg: x. From version 0.12, the only valid positional argument will be `data`, and passing other arguments without an explicit keyword will result in an error or misinterpretation.\n",
            "  FutureWarning\n"
          ]
        },
        {
          "output_type": "display_data",
          "data": {
            "text/plain": [
              "<Figure size 432x288 with 1 Axes>"
            ],
            "image/png": "[encoded data removed]"
          },
          "metadata": {
            "needs_background": "light"
          }
        },
        {
          "output_type": "display_data",
          "data": {
            "text/plain": [
              "<Figure size 1080x1080 with 0 Axes>"
            ]
          },
          "metadata": {}
        },
        {
          "output_type": "stream",
          "name": "stderr",
          "text": [
            "/usr/local/lib/python3.7/dist-packages/seaborn/_decorators.py:43: FutureWarning: Pass the following variable as a keyword arg: x. From version 0.12, the only valid positional argument will be `data`, and passing other arguments without an explicit keyword will result in an error or misinterpretation.\n",
            "  FutureWarning\n"
          ]
        },
        {
          "output_type": "display_data",
          "data": {
            "text/plain": [
              "<Figure size 432x288 with 1 Axes>"
            ],
            "image/png": "[encoded data removed]"
          },
          "metadata": {
            "needs_background": "light"
          }
        },
        {
          "output_type": "display_data",
          "data": {
            "text/plain": [
              "<Figure size 1080x1080 with 0 Axes>"
            ]
          },
          "metadata": {}
        },
        {
          "output_type": "stream",
          "name": "stderr",
          "text": [
            "/usr/local/lib/python3.7/dist-packages/seaborn/_decorators.py:43: FutureWarning: Pass the following variable as a keyword arg: x. From version 0.12, the only valid positional argument will be `data`, and passing other arguments without an explicit keyword will result in an error or misinterpretation.\n",
            "  FutureWarning\n"
          ]
        },
        {
          "output_type": "display_data",
          "data": {
            "text/plain": [
              "<Figure size 432x288 with 1 Axes>"
            ],
            "image/png": "[encoded data removed]"
          },
          "metadata": {
            "needs_background": "light"
          }
        },
        {
          "output_type": "display_data",
          "data": {
            "text/plain": [
              "<Figure size 1080x1080 with 0 Axes>"
            ]
          },
          "metadata": {}
        },
        {
          "output_type": "stream",
          "name": "stderr",
          "text": [
            "/usr/local/lib/python3.7/dist-packages/seaborn/_decorators.py:43: FutureWarning: Pass the following variable as a keyword arg: x. From version 0.12, the only valid positional argument will be `data`, and passing other arguments without an explicit keyword will result in an error or misinterpretation.\n",
            "  FutureWarning\n"
          ]
        },
        {
          "output_type": "display_data",
          "data": {
            "text/plain": [
              "<Figure size 432x288 with 1 Axes>"
            ],
            "image/png": "[encoded data removed]"
          },
          "metadata": {
            "needs_background": "light"
          }
        },
        {
          "output_type": "display_data",
          "data": {
            "text/plain": [
              "<Figure size 1080x1080 with 0 Axes>"
            ]
          },
          "metadata": {}
        },
        {
          "output_type": "stream",
          "name": "stderr",
          "text": [
            "/usr/local/lib/python3.7/dist-packages/seaborn/_decorators.py:43: FutureWarning: Pass the following variable as a keyword arg: x. From version 0.12, the only valid positional argument will be `data`, and passing other arguments without an explicit keyword will result in an error or misinterpretation.\n",
            "  FutureWarning\n"
          ]
        },
        {
          "output_type": "display_data",
          "data": {
            "text/plain": [
              "<Figure size 432x288 with 1 Axes>"
            ],
            "image/png": "[encoded data removed]"
          },
          "metadata": {
            "needs_background": "light"
          }
        },
        {
          "output_type": "display_data",
          "data": {
            "text/plain": [
              "<Figure size 1080x1080 with 0 Axes>"
            ]
          },
          "metadata": {}
        },
        {
          "output_type": "stream",
          "name": "stderr",
          "text": [
            "/usr/local/lib/python3.7/dist-packages/seaborn/_decorators.py:43: FutureWarning: Pass the following variable as a keyword arg: x. From version 0.12, the only valid positional argument will be `data`, and passing other arguments without an explicit keyword will result in an error or misinterpretation.\n",
            "  FutureWarning\n"
          ]
        },
        {
          "output_type": "display_data",
          "data": {
            "text/plain": [
              "<Figure size 432x288 with 1 Axes>"
            ],
            "image/png": "[encoded data removed]"
          },
          "metadata": {
            "needs_background": "light"
          }
        },
        {
          "output_type": "display_data",
          "data": {
            "text/plain": [
              "<Figure size 1080x1080 with 0 Axes>"
            ]
          },
          "metadata": {}
        },
        {
          "output_type": "stream",
          "name": "stderr",
          "text": [
            "/usr/local/lib/python3.7/dist-packages/seaborn/_decorators.py:43: FutureWarning: Pass the following variable as a keyword arg: x. From version 0.12, the only valid positional argument will be `data`, and passing other arguments without an explicit keyword will result in an error or misinterpretation.\n",
            "  FutureWarning\n"
          ]
        },
        {
          "output_type": "display_data",
          "data": {
            "text/plain": [
              "<Figure size 432x288 with 1 Axes>"
            ],
            "image/png": "[encoded data removed]"
          },
          "metadata": {
            "needs_background": "light"
          }
        },
        {
          "output_type": "display_data",
          "data": {
            "text/plain": [
              "<Figure size 1080x1080 with 0 Axes>"
            ]
          },
          "metadata": {}
        },
        {
          "output_type": "stream",
          "name": "stderr",
          "text": [
            "/usr/local/lib/python3.7/dist-packages/seaborn/_decorators.py:43: FutureWarning: Pass the following variable as a keyword arg: x. From version 0.12, the only valid positional argument will be `data`, and passing other arguments without an explicit keyword will result in an error or misinterpretation.\n",
            "  FutureWarning\n"
          ]
        },
        {
          "output_type": "display_data",
          "data": {
            "text/plain": [
              "<Figure size 432x288 with 1 Axes>"
            ],
            "image/png": "[encoded data removed]"
          },
          "metadata": {
            "needs_background": "light"
          }
        },
        {
          "output_type": "display_data",
          "data": {
            "text/plain": [
              "<Figure size 1080x1080 with 0 Axes>"
            ]
          },
          "metadata": {}
        },
        {
          "output_type": "stream",
          "name": "stderr",
          "text": [
            "/usr/local/lib/python3.7/dist-packages/seaborn/_decorators.py:43: FutureWarning: Pass the following variable as a keyword arg: x. From version 0.12, the only valid positional argument will be `data`, and passing other arguments without an explicit keyword will result in an error or misinterpretation.\n",
            "  FutureWarning\n"
          ]
        },
        {
          "output_type": "display_data",
          "data": {
            "text/plain": [
              "<Figure size 432x288 with 1 Axes>"
            ],
            "image/png": "[encoded data removed]"
          },
          "metadata": {
            "needs_background": "light"
          }
        },
        {
          "output_type": "display_data",
          "data": {
            "text/plain": [
              "<Figure size 1080x1080 with 0 Axes>"
            ]
          },
          "metadata": {}
        },
        {
          "output_type": "stream",
          "name": "stderr",
          "text": [
            "/usr/local/lib/python3.7/dist-packages/seaborn/_decorators.py:43: FutureWarning: Pass the following variable as a keyword arg: x. From version 0.12, the only valid positional argument will be `data`, and passing other arguments without an explicit keyword will result in an error or misinterpretation.\n",
            "  FutureWarning\n"
          ]
        },
        {
          "output_type": "display_data",
          "data": {
            "text/plain": [
              "<Figure size 432x288 with 1 Axes>"
            ],
            "image/png": "[encoded data removed]"
          },
          "metadata": {
            "needs_background": "light"
          }
        },
        {
          "output_type": "display_data",
          "data": {
            "text/plain": [
              "<Figure size 1080x1080 with 0 Axes>"
            ]
          },
          "metadata": {}
        },
        {
          "output_type": "stream",
          "name": "stderr",
          "text": [
            "/usr/local/lib/python3.7/dist-packages/seaborn/_decorators.py:43: FutureWarning: Pass the following variable as a keyword arg: x. From version 0.12, the only valid positional argument will be `data`, and passing other arguments without an explicit keyword will result in an error or misinterpretation.\n",
            "  FutureWarning\n"
          ]
        },
        {
          "output_type": "display_data",
          "data": {
            "text/plain": [
              "<Figure size 432x288 with 1 Axes>"
            ],
            "image/png": "[encoded data removed]"
          },
          "metadata": {
            "needs_background": "light"
          }
        },
        {
          "output_type": "display_data",
          "data": {
            "text/plain": [
              "<Figure size 1080x1080 with 0 Axes>"
            ]
          },
          "metadata": {}
        },
        {
          "output_type": "stream",
          "name": "stderr",
          "text": [
            "/usr/local/lib/python3.7/dist-packages/seaborn/_decorators.py:43: FutureWarning: Pass the following variable as a keyword arg: x. From version 0.12, the only valid positional argument will be `data`, and passing other arguments without an explicit keyword will result in an error or misinterpretation.\n",
            "  FutureWarning\n"
          ]
        },
        {
          "output_type": "display_data",
          "data": {
            "text/plain": [
              "<Figure size 432x288 with 1 Axes>"
            ],
            "image/png": "[encoded data removed]"
          },
          "metadata": {
            "needs_background": "light"
          }
        },
        {
          "output_type": "display_data",
          "data": {
            "text/plain": [
              "<Figure size 1080x1080 with 0 Axes>"
            ]
          },
          "metadata": {}
        },
        {
          "output_type": "stream",
          "name": "stderr",
          "text": [
            "/usr/local/lib/python3.7/dist-packages/seaborn/_decorators.py:43: FutureWarning: Pass the following variable as a keyword arg: x. From version 0.12, the only valid positional argument will be `data`, and passing other arguments without an explicit keyword will result in an error or misinterpretation.\n",
            "  FutureWarning\n"
          ]
        },
        {
          "output_type": "display_data",
          "data": {
            "text/plain": [
              "<Figure size 432x288 with 1 Axes>"
            ],
            "image/png": "[encoded data removed]"
          },
          "metadata": {
            "needs_background": "light"
          }
        },
        {
          "output_type": "display_data",
          "data": {
            "text/plain": [
              "<Figure size 1080x1080 with 0 Axes>"
            ]
          },
          "metadata": {}
        },
        {
          "output_type": "stream",
          "name": "stderr",
          "text": [
            "/usr/local/lib/python3.7/dist-packages/seaborn/_decorators.py:43: FutureWarning: Pass the following variable as a keyword arg: x. From version 0.12, the only valid positional argument will be `data`, and passing other arguments without an explicit keyword will result in an error or misinterpretation.\n",
            "  FutureWarning\n"
          ]
        },
        {
          "output_type": "display_data",
          "data": {
            "text/plain": [
              "<Figure size 432x288 with 1 Axes>"
            ],
            "image/png": "[encoded data removed]"
          },
          "metadata": {
            "needs_background": "light"
          }
        },
        {
          "output_type": "display_data",
          "data": {
            "text/plain": [
              "<Figure size 1080x1080 with 0 Axes>"
            ]
          },
          "metadata": {}
        },
        {
          "output_type": "stream",
          "name": "stderr",
          "text": [
            "/usr/local/lib/python3.7/dist-packages/seaborn/_decorators.py:43: FutureWarning: Pass the following variable as a keyword arg: x. From version 0.12, the only valid positional argument will be `data`, and passing other arguments without an explicit keyword will result in an error or misinterpretation.\n",
            "  FutureWarning\n"
          ]
        },
        {
          "output_type": "display_data",
          "data": {
            "text/plain": [
              "<Figure size 432x288 with 1 Axes>"
            ],
            "image/png": "[encoded data removed]"
          },
          "metadata": {
            "needs_background": "light"
          }
        },
        {
          "output_type": "display_data",
          "data": {
            "text/plain": [
              "<Figure size 1080x1080 with 0 Axes>"
            ]
          },
          "metadata": {}
        },
        {
          "output_type": "stream",
          "name": "stderr",
          "text": [
            "/usr/local/lib/python3.7/dist-packages/seaborn/_decorators.py:43: FutureWarning: Pass the following variable as a keyword arg: x. From version 0.12, the only valid positional argument will be `data`, and passing other arguments without an explicit keyword will result in an error or misinterpretation.\n",
            "  FutureWarning\n"
          ]
        },
        {
          "output_type": "display_data",
          "data": {
            "text/plain": [
              "<Figure size 432x288 with 1 Axes>"
            ],
            "image/png": "[encoded data removed]"
          },
          "metadata": {
            "needs_background": "light"
          }
        },
        {
          "output_type": "display_data",
          "data": {
            "text/plain": [
              "<Figure size 1080x1080 with 0 Axes>"
            ]
          },
          "metadata": {}
        }
      ],
      "source": [
        "for feature in cont_feature:\n",
        "    data=price.copy()\n",
        "    sns.boxplot(price[feature])\n",
        "    plt.title(feature)\n",
        "    plt.figure(figsize=(15,15))\n",
        "    plt.show()"
      ]
    },
    {
      "cell_type": "code",
      "source": [
        "def outliers(df,variable):\n",
        "    IQR=df[variable].quantile(0.75)-df[variable].quantile(0.25)\n",
        "    lowbridge=df[variable].quantile(0.25)-(IQR*1.5)\n",
        "    highbridge=df[variable].quantile(0.75)+(IQR*1.5)\n",
        "    \n",
        "    df.loc[df[variable]>=highbridge,variable]=highbridge\n",
        "    df.loc[df[variable]<=lowbridge,variable]=lowbridge"
      ],
      "metadata": {
        "id": "faBqz1TD9k6u"
      },
      "id": "faBqz1TD9k6u",
      "execution_count": 62,
      "outputs": []
    },
    {
      "cell_type": "code",
      "source": [
        "for feature in cont_feature:\n",
        "    outliers(price,str(feature))"
      ],
      "metadata": {
        "id": "4FEqutpNAcvv"
      },
      "id": "4FEqutpNAcvv",
      "execution_count": 63,
      "outputs": []
    },
    {
      "cell_type": "code",
      "source": [
        ""
      ],
      "metadata": {
        "id": "Zhx3DgTbAczO"
      },
      "id": "Zhx3DgTbAczO",
      "execution_count": null,
      "outputs": []
    }
  ],
  "metadata": {
    "kernelspec": {
      "display_name": "Python 3 (ipykernel)",
      "language": "python",
      "name": "python3"
    },
    "language_info": {
      "codemirror_mode": {
        "name": "ipython",
        "version": 3
      },
      "file_extension": ".py",
      "mimetype": "text/x-python",
      "name": "python",
      "nbconvert_exporter": "python",
      "pygments_lexer": "ipython3",
      "version": "3.9.7"
    },
    "colab": {
      "name": "housing_collab.ipynb",
      "provenance": [],
      "collapsed_sections": [],
      "include_colab_link": true
    }
  },
  "nbformat": 4,
  "nbformat_minor": 5
}